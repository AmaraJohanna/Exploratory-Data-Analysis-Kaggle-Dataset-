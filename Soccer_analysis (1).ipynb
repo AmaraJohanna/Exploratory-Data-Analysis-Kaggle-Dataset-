{
 "cells": [
  {
   "cell_type": "markdown",
   "id": "sonic-disabled",
   "metadata": {},
   "source": [
    "# SOCCER DATABASE ANALYSIS USING SQL, PANDAS and NUMPY\n",
    ">\n",
    "## This dataset was obtained from kaggle."
   ]
  },
  {
   "cell_type": "markdown",
   "id": "sealed-merchant",
   "metadata": {},
   "source": [
    "## Table of Contents\n",
    "<ul>\n",
    "<li><a href=\"#intro\">Introduction</a></li>\n",
    "<li><a href=\"#wrangling\">Data Wrangling</a></li>\n",
    "<li><a href=\"#eda\">Exploratory Data Analysis on the Player Dataset</a></li>\n",
    "<li><a href=\"#eda1\">Exploratory Data Analysis on the Match Dataset</a></li>  \n",
    "<li><a href=\"#conclusions\">Conclusions</a></li>\n",
    "</ul>\n"
   ]
  },
  {
   "cell_type": "markdown",
   "id": "comfortable-interface",
   "metadata": {},
   "source": [
    "<a id='intro'></a>\n",
    "## Introduction\n",
    "\n",
    "> The soccer database obtained from Kaggle will be analyzed. The database constitute of seven different table of which are linked in one way or the other. For this analysis, the six of the seven tables were filtered and merged using SQL to form two new datasets which was used in the exploratory data analysis.The Data wrangling process explores this process further.\n"
   ]
  },
  {
   "cell_type": "code",
   "execution_count": 1,
   "id": "indoor-sister",
   "metadata": {},
   "outputs": [],
   "source": [
    "#importing necessary libraries\n",
    "import pandas as pd\n",
    "import numpy as np\n",
    "import matplotlib.pyplot as plt\n",
    "import seaborn as sns\n",
    "import sqlite3"
   ]
  },
  {
   "cell_type": "markdown",
   "id": "tough-decision",
   "metadata": {},
   "source": [
    "<a id='wrangling'></a>\n",
    "## Data Wrangling"
   ]
  },
  {
   "cell_type": "code",
   "execution_count": 2,
   "id": "visible-doubt",
   "metadata": {},
   "outputs": [
    {
     "data": {
      "text/plain": [
       "<sqlite3.Connection at 0x25c33d12030>"
      ]
     },
     "execution_count": 2,
     "metadata": {},
     "output_type": "execute_result"
    }
   ],
   "source": [
    "#connecting to the location of the sqlite database\n",
    "conn = sqlite3.connect(\"C:\\\\Users\\\\HP\\\\Downloads\\\\database.sqlite\")\n",
    "conn"
   ]
  },
  {
   "cell_type": "markdown",
   "id": "iraqi-fancy",
   "metadata": {},
   "source": [
    "> The connection to the database was successful"
   ]
  },
  {
   "cell_type": "code",
   "execution_count": 3,
   "id": "brown-controversy",
   "metadata": {},
   "outputs": [
    {
     "data": {
      "text/html": [
       "<div>\n",
       "<style scoped>\n",
       "    .dataframe tbody tr th:only-of-type {\n",
       "        vertical-align: middle;\n",
       "    }\n",
       "\n",
       "    .dataframe tbody tr th {\n",
       "        vertical-align: top;\n",
       "    }\n",
       "\n",
       "    .dataframe thead th {\n",
       "        text-align: right;\n",
       "    }\n",
       "</style>\n",
       "<table border=\"1\" class=\"dataframe\">\n",
       "  <thead>\n",
       "    <tr style=\"text-align: right;\">\n",
       "      <th></th>\n",
       "      <th>type</th>\n",
       "      <th>name</th>\n",
       "      <th>tbl_name</th>\n",
       "      <th>rootpage</th>\n",
       "      <th>sql</th>\n",
       "    </tr>\n",
       "  </thead>\n",
       "  <tbody>\n",
       "    <tr>\n",
       "      <th>0</th>\n",
       "      <td>table</td>\n",
       "      <td>sqlite_sequence</td>\n",
       "      <td>sqlite_sequence</td>\n",
       "      <td>4</td>\n",
       "      <td>CREATE TABLE sqlite_sequence(name,seq)</td>\n",
       "    </tr>\n",
       "    <tr>\n",
       "      <th>1</th>\n",
       "      <td>table</td>\n",
       "      <td>Player_Attributes</td>\n",
       "      <td>Player_Attributes</td>\n",
       "      <td>11</td>\n",
       "      <td>CREATE TABLE \"Player_Attributes\" (\\n\\t`id`\\tIN...</td>\n",
       "    </tr>\n",
       "    <tr>\n",
       "      <th>2</th>\n",
       "      <td>table</td>\n",
       "      <td>Player</td>\n",
       "      <td>Player</td>\n",
       "      <td>14</td>\n",
       "      <td>CREATE TABLE `Player` (\\n\\t`id`\\tINTEGER PRIMA...</td>\n",
       "    </tr>\n",
       "    <tr>\n",
       "      <th>3</th>\n",
       "      <td>table</td>\n",
       "      <td>Match</td>\n",
       "      <td>Match</td>\n",
       "      <td>18</td>\n",
       "      <td>CREATE TABLE `Match` (\\n\\t`id`\\tINTEGER PRIMAR...</td>\n",
       "    </tr>\n",
       "    <tr>\n",
       "      <th>4</th>\n",
       "      <td>table</td>\n",
       "      <td>League</td>\n",
       "      <td>League</td>\n",
       "      <td>24</td>\n",
       "      <td>CREATE TABLE `League` (\\n\\t`id`\\tINTEGER PRIMA...</td>\n",
       "    </tr>\n",
       "    <tr>\n",
       "      <th>5</th>\n",
       "      <td>table</td>\n",
       "      <td>Country</td>\n",
       "      <td>Country</td>\n",
       "      <td>26</td>\n",
       "      <td>CREATE TABLE `Country` (\\n\\t`id`\\tINTEGER PRIM...</td>\n",
       "    </tr>\n",
       "    <tr>\n",
       "      <th>6</th>\n",
       "      <td>table</td>\n",
       "      <td>Team</td>\n",
       "      <td>Team</td>\n",
       "      <td>29</td>\n",
       "      <td>CREATE TABLE \"Team\" (\\n\\t`id`\\tINTEGER PRIMARY...</td>\n",
       "    </tr>\n",
       "    <tr>\n",
       "      <th>7</th>\n",
       "      <td>table</td>\n",
       "      <td>Team_Attributes</td>\n",
       "      <td>Team_Attributes</td>\n",
       "      <td>2</td>\n",
       "      <td>CREATE TABLE `Team_Attributes` (\\n\\t`id`\\tINTE...</td>\n",
       "    </tr>\n",
       "  </tbody>\n",
       "</table>\n",
       "</div>"
      ],
      "text/plain": [
       "    type               name           tbl_name  rootpage  \\\n",
       "0  table    sqlite_sequence    sqlite_sequence         4   \n",
       "1  table  Player_Attributes  Player_Attributes        11   \n",
       "2  table             Player             Player        14   \n",
       "3  table              Match              Match        18   \n",
       "4  table             League             League        24   \n",
       "5  table            Country            Country        26   \n",
       "6  table               Team               Team        29   \n",
       "7  table    Team_Attributes    Team_Attributes         2   \n",
       "\n",
       "                                                 sql  \n",
       "0             CREATE TABLE sqlite_sequence(name,seq)  \n",
       "1  CREATE TABLE \"Player_Attributes\" (\\n\\t`id`\\tIN...  \n",
       "2  CREATE TABLE `Player` (\\n\\t`id`\\tINTEGER PRIMA...  \n",
       "3  CREATE TABLE `Match` (\\n\\t`id`\\tINTEGER PRIMAR...  \n",
       "4  CREATE TABLE `League` (\\n\\t`id`\\tINTEGER PRIMA...  \n",
       "5  CREATE TABLE `Country` (\\n\\t`id`\\tINTEGER PRIM...  \n",
       "6  CREATE TABLE \"Team\" (\\n\\t`id`\\tINTEGER PRIMARY...  \n",
       "7  CREATE TABLE `Team_Attributes` (\\n\\t`id`\\tINTE...  "
      ]
     },
     "execution_count": 3,
     "metadata": {},
     "output_type": "execute_result"
    }
   ],
   "source": [
    "#code to view all the tables contained in the relational database using pandas\n",
    "tables = pd.read_sql(\"\"\"SELECT *\n",
    "                        FROM sqlite_master\n",
    "                        WHERE type='table';\"\"\", conn)\n",
    "\n",
    "tables # returns the result"
   ]
  },
  {
   "cell_type": "markdown",
   "id": "renewable-friday",
   "metadata": {},
   "source": [
    "> There are 7 tables altogether"
   ]
  },
  {
   "cell_type": "markdown",
   "id": "sensitive-chick",
   "metadata": {},
   "source": [
    "#### We will now proceed to view these tables"
   ]
  },
  {
   "cell_type": "code",
   "execution_count": 4,
   "id": "immediate-buying",
   "metadata": {},
   "outputs": [
    {
     "data": {
      "text/html": [
       "<div>\n",
       "<style scoped>\n",
       "    .dataframe tbody tr th:only-of-type {\n",
       "        vertical-align: middle;\n",
       "    }\n",
       "\n",
       "    .dataframe tbody tr th {\n",
       "        vertical-align: top;\n",
       "    }\n",
       "\n",
       "    .dataframe thead th {\n",
       "        text-align: right;\n",
       "    }\n",
       "</style>\n",
       "<table border=\"1\" class=\"dataframe\">\n",
       "  <thead>\n",
       "    <tr style=\"text-align: right;\">\n",
       "      <th></th>\n",
       "      <th>id</th>\n",
       "      <th>team_fifa_api_id</th>\n",
       "      <th>team_api_id</th>\n",
       "      <th>date</th>\n",
       "      <th>buildUpPlaySpeed</th>\n",
       "      <th>buildUpPlaySpeedClass</th>\n",
       "      <th>buildUpPlayDribbling</th>\n",
       "      <th>buildUpPlayDribblingClass</th>\n",
       "      <th>buildUpPlayPassing</th>\n",
       "      <th>buildUpPlayPassingClass</th>\n",
       "      <th>...</th>\n",
       "      <th>chanceCreationShooting</th>\n",
       "      <th>chanceCreationShootingClass</th>\n",
       "      <th>chanceCreationPositioningClass</th>\n",
       "      <th>defencePressure</th>\n",
       "      <th>defencePressureClass</th>\n",
       "      <th>defenceAggression</th>\n",
       "      <th>defenceAggressionClass</th>\n",
       "      <th>defenceTeamWidth</th>\n",
       "      <th>defenceTeamWidthClass</th>\n",
       "      <th>defenceDefenderLineClass</th>\n",
       "    </tr>\n",
       "  </thead>\n",
       "  <tbody>\n",
       "    <tr>\n",
       "      <th>0</th>\n",
       "      <td>1</td>\n",
       "      <td>434</td>\n",
       "      <td>9930</td>\n",
       "      <td>2010-02-22 00:00:00</td>\n",
       "      <td>60</td>\n",
       "      <td>Balanced</td>\n",
       "      <td>NaN</td>\n",
       "      <td>Little</td>\n",
       "      <td>50</td>\n",
       "      <td>Mixed</td>\n",
       "      <td>...</td>\n",
       "      <td>55</td>\n",
       "      <td>Normal</td>\n",
       "      <td>Organised</td>\n",
       "      <td>50</td>\n",
       "      <td>Medium</td>\n",
       "      <td>55</td>\n",
       "      <td>Press</td>\n",
       "      <td>45</td>\n",
       "      <td>Normal</td>\n",
       "      <td>Cover</td>\n",
       "    </tr>\n",
       "    <tr>\n",
       "      <th>1</th>\n",
       "      <td>2</td>\n",
       "      <td>434</td>\n",
       "      <td>9930</td>\n",
       "      <td>2014-09-19 00:00:00</td>\n",
       "      <td>52</td>\n",
       "      <td>Balanced</td>\n",
       "      <td>48.0</td>\n",
       "      <td>Normal</td>\n",
       "      <td>56</td>\n",
       "      <td>Mixed</td>\n",
       "      <td>...</td>\n",
       "      <td>64</td>\n",
       "      <td>Normal</td>\n",
       "      <td>Organised</td>\n",
       "      <td>47</td>\n",
       "      <td>Medium</td>\n",
       "      <td>44</td>\n",
       "      <td>Press</td>\n",
       "      <td>54</td>\n",
       "      <td>Normal</td>\n",
       "      <td>Cover</td>\n",
       "    </tr>\n",
       "    <tr>\n",
       "      <th>2</th>\n",
       "      <td>3</td>\n",
       "      <td>434</td>\n",
       "      <td>9930</td>\n",
       "      <td>2015-09-10 00:00:00</td>\n",
       "      <td>47</td>\n",
       "      <td>Balanced</td>\n",
       "      <td>41.0</td>\n",
       "      <td>Normal</td>\n",
       "      <td>54</td>\n",
       "      <td>Mixed</td>\n",
       "      <td>...</td>\n",
       "      <td>64</td>\n",
       "      <td>Normal</td>\n",
       "      <td>Organised</td>\n",
       "      <td>47</td>\n",
       "      <td>Medium</td>\n",
       "      <td>44</td>\n",
       "      <td>Press</td>\n",
       "      <td>54</td>\n",
       "      <td>Normal</td>\n",
       "      <td>Cover</td>\n",
       "    </tr>\n",
       "    <tr>\n",
       "      <th>3</th>\n",
       "      <td>4</td>\n",
       "      <td>77</td>\n",
       "      <td>8485</td>\n",
       "      <td>2010-02-22 00:00:00</td>\n",
       "      <td>70</td>\n",
       "      <td>Fast</td>\n",
       "      <td>NaN</td>\n",
       "      <td>Little</td>\n",
       "      <td>70</td>\n",
       "      <td>Long</td>\n",
       "      <td>...</td>\n",
       "      <td>70</td>\n",
       "      <td>Lots</td>\n",
       "      <td>Organised</td>\n",
       "      <td>60</td>\n",
       "      <td>Medium</td>\n",
       "      <td>70</td>\n",
       "      <td>Double</td>\n",
       "      <td>70</td>\n",
       "      <td>Wide</td>\n",
       "      <td>Cover</td>\n",
       "    </tr>\n",
       "    <tr>\n",
       "      <th>4</th>\n",
       "      <td>5</td>\n",
       "      <td>77</td>\n",
       "      <td>8485</td>\n",
       "      <td>2011-02-22 00:00:00</td>\n",
       "      <td>47</td>\n",
       "      <td>Balanced</td>\n",
       "      <td>NaN</td>\n",
       "      <td>Little</td>\n",
       "      <td>52</td>\n",
       "      <td>Mixed</td>\n",
       "      <td>...</td>\n",
       "      <td>52</td>\n",
       "      <td>Normal</td>\n",
       "      <td>Organised</td>\n",
       "      <td>47</td>\n",
       "      <td>Medium</td>\n",
       "      <td>47</td>\n",
       "      <td>Press</td>\n",
       "      <td>52</td>\n",
       "      <td>Normal</td>\n",
       "      <td>Cover</td>\n",
       "    </tr>\n",
       "  </tbody>\n",
       "</table>\n",
       "<p>5 rows × 25 columns</p>\n",
       "</div>"
      ],
      "text/plain": [
       "   id  team_fifa_api_id  team_api_id                 date  buildUpPlaySpeed  \\\n",
       "0   1               434         9930  2010-02-22 00:00:00                60   \n",
       "1   2               434         9930  2014-09-19 00:00:00                52   \n",
       "2   3               434         9930  2015-09-10 00:00:00                47   \n",
       "3   4                77         8485  2010-02-22 00:00:00                70   \n",
       "4   5                77         8485  2011-02-22 00:00:00                47   \n",
       "\n",
       "  buildUpPlaySpeedClass  buildUpPlayDribbling buildUpPlayDribblingClass  \\\n",
       "0              Balanced                   NaN                    Little   \n",
       "1              Balanced                  48.0                    Normal   \n",
       "2              Balanced                  41.0                    Normal   \n",
       "3                  Fast                   NaN                    Little   \n",
       "4              Balanced                   NaN                    Little   \n",
       "\n",
       "   buildUpPlayPassing buildUpPlayPassingClass  ... chanceCreationShooting  \\\n",
       "0                  50                   Mixed  ...                     55   \n",
       "1                  56                   Mixed  ...                     64   \n",
       "2                  54                   Mixed  ...                     64   \n",
       "3                  70                    Long  ...                     70   \n",
       "4                  52                   Mixed  ...                     52   \n",
       "\n",
       "   chanceCreationShootingClass chanceCreationPositioningClass  \\\n",
       "0                       Normal                      Organised   \n",
       "1                       Normal                      Organised   \n",
       "2                       Normal                      Organised   \n",
       "3                         Lots                      Organised   \n",
       "4                       Normal                      Organised   \n",
       "\n",
       "   defencePressure defencePressureClass  defenceAggression  \\\n",
       "0               50               Medium                 55   \n",
       "1               47               Medium                 44   \n",
       "2               47               Medium                 44   \n",
       "3               60               Medium                 70   \n",
       "4               47               Medium                 47   \n",
       "\n",
       "  defenceAggressionClass defenceTeamWidth  defenceTeamWidthClass  \\\n",
       "0                  Press               45                 Normal   \n",
       "1                  Press               54                 Normal   \n",
       "2                  Press               54                 Normal   \n",
       "3                 Double               70                   Wide   \n",
       "4                  Press               52                 Normal   \n",
       "\n",
       "  defenceDefenderLineClass  \n",
       "0                    Cover  \n",
       "1                    Cover  \n",
       "2                    Cover  \n",
       "3                    Cover  \n",
       "4                    Cover  \n",
       "\n",
       "[5 rows x 25 columns]"
      ]
     },
     "execution_count": 4,
     "metadata": {},
     "output_type": "execute_result"
    }
   ],
   "source": [
    "# team attributes table data\n",
    "# using pandas and SQL to extract the data\n",
    "team_attributes = pd.read_sql(\"\"\"SELECT *\n",
    "                        FROM Team_Attributes;\"\"\", conn)\n",
    "\n",
    "team_attributes.head(5) # returns the first five rows of the table"
   ]
  },
  {
   "cell_type": "code",
   "execution_count": 5,
   "id": "pending-plate",
   "metadata": {},
   "outputs": [
    {
     "data": {
      "text/html": [
       "<div>\n",
       "<style scoped>\n",
       "    .dataframe tbody tr th:only-of-type {\n",
       "        vertical-align: middle;\n",
       "    }\n",
       "\n",
       "    .dataframe tbody tr th {\n",
       "        vertical-align: top;\n",
       "    }\n",
       "\n",
       "    .dataframe thead th {\n",
       "        text-align: right;\n",
       "    }\n",
       "</style>\n",
       "<table border=\"1\" class=\"dataframe\">\n",
       "  <thead>\n",
       "    <tr style=\"text-align: right;\">\n",
       "      <th></th>\n",
       "      <th>id</th>\n",
       "      <th>team_api_id</th>\n",
       "      <th>team_fifa_api_id</th>\n",
       "      <th>team_long_name</th>\n",
       "      <th>team_short_name</th>\n",
       "    </tr>\n",
       "  </thead>\n",
       "  <tbody>\n",
       "    <tr>\n",
       "      <th>0</th>\n",
       "      <td>1</td>\n",
       "      <td>9987</td>\n",
       "      <td>673.0</td>\n",
       "      <td>KRC Genk</td>\n",
       "      <td>GEN</td>\n",
       "    </tr>\n",
       "    <tr>\n",
       "      <th>1</th>\n",
       "      <td>2</td>\n",
       "      <td>9993</td>\n",
       "      <td>675.0</td>\n",
       "      <td>Beerschot AC</td>\n",
       "      <td>BAC</td>\n",
       "    </tr>\n",
       "    <tr>\n",
       "      <th>2</th>\n",
       "      <td>3</td>\n",
       "      <td>10000</td>\n",
       "      <td>15005.0</td>\n",
       "      <td>SV Zulte-Waregem</td>\n",
       "      <td>ZUL</td>\n",
       "    </tr>\n",
       "    <tr>\n",
       "      <th>3</th>\n",
       "      <td>4</td>\n",
       "      <td>9994</td>\n",
       "      <td>2007.0</td>\n",
       "      <td>Sporting Lokeren</td>\n",
       "      <td>LOK</td>\n",
       "    </tr>\n",
       "    <tr>\n",
       "      <th>4</th>\n",
       "      <td>5</td>\n",
       "      <td>9984</td>\n",
       "      <td>1750.0</td>\n",
       "      <td>KSV Cercle Brugge</td>\n",
       "      <td>CEB</td>\n",
       "    </tr>\n",
       "  </tbody>\n",
       "</table>\n",
       "</div>"
      ],
      "text/plain": [
       "   id  team_api_id  team_fifa_api_id     team_long_name team_short_name\n",
       "0   1         9987             673.0           KRC Genk             GEN\n",
       "1   2         9993             675.0       Beerschot AC             BAC\n",
       "2   3        10000           15005.0   SV Zulte-Waregem             ZUL\n",
       "3   4         9994            2007.0   Sporting Lokeren             LOK\n",
       "4   5         9984            1750.0  KSV Cercle Brugge             CEB"
      ]
     },
     "execution_count": 5,
     "metadata": {},
     "output_type": "execute_result"
    }
   ],
   "source": [
    "#team table data\n",
    "team = pd.read_sql(\"\"\"SELECT *\n",
    "                        FROM Team;\"\"\", conn)\n",
    "team.head(5) # returns the first five rows of the table"
   ]
  },
  {
   "cell_type": "code",
   "execution_count": 6,
   "id": "native-registration",
   "metadata": {},
   "outputs": [
    {
     "data": {
      "text/html": [
       "<div>\n",
       "<style scoped>\n",
       "    .dataframe tbody tr th:only-of-type {\n",
       "        vertical-align: middle;\n",
       "    }\n",
       "\n",
       "    .dataframe tbody tr th {\n",
       "        vertical-align: top;\n",
       "    }\n",
       "\n",
       "    .dataframe thead th {\n",
       "        text-align: right;\n",
       "    }\n",
       "</style>\n",
       "<table border=\"1\" class=\"dataframe\">\n",
       "  <thead>\n",
       "    <tr style=\"text-align: right;\">\n",
       "      <th></th>\n",
       "      <th>id</th>\n",
       "      <th>country_id</th>\n",
       "      <th>name</th>\n",
       "    </tr>\n",
       "  </thead>\n",
       "  <tbody>\n",
       "    <tr>\n",
       "      <th>0</th>\n",
       "      <td>1</td>\n",
       "      <td>1</td>\n",
       "      <td>Belgium Jupiler League</td>\n",
       "    </tr>\n",
       "    <tr>\n",
       "      <th>1</th>\n",
       "      <td>1729</td>\n",
       "      <td>1729</td>\n",
       "      <td>England Premier League</td>\n",
       "    </tr>\n",
       "    <tr>\n",
       "      <th>2</th>\n",
       "      <td>4769</td>\n",
       "      <td>4769</td>\n",
       "      <td>France Ligue 1</td>\n",
       "    </tr>\n",
       "    <tr>\n",
       "      <th>3</th>\n",
       "      <td>7809</td>\n",
       "      <td>7809</td>\n",
       "      <td>Germany 1. Bundesliga</td>\n",
       "    </tr>\n",
       "    <tr>\n",
       "      <th>4</th>\n",
       "      <td>10257</td>\n",
       "      <td>10257</td>\n",
       "      <td>Italy Serie A</td>\n",
       "    </tr>\n",
       "  </tbody>\n",
       "</table>\n",
       "</div>"
      ],
      "text/plain": [
       "      id  country_id                    name\n",
       "0      1           1  Belgium Jupiler League\n",
       "1   1729        1729  England Premier League\n",
       "2   4769        4769          France Ligue 1\n",
       "3   7809        7809   Germany 1. Bundesliga\n",
       "4  10257       10257           Italy Serie A"
      ]
     },
     "execution_count": 6,
     "metadata": {},
     "output_type": "execute_result"
    }
   ],
   "source": [
    "#league table data\n",
    "league = pd.read_sql(\"\"\"SELECT *\n",
    "                        FROM League;\"\"\", conn)\n",
    "league.head(5) # retunrns the first 5 rows of the table"
   ]
  },
  {
   "cell_type": "code",
   "execution_count": 7,
   "id": "revised-wrapping",
   "metadata": {},
   "outputs": [
    {
     "data": {
      "text/html": [
       "<div>\n",
       "<style scoped>\n",
       "    .dataframe tbody tr th:only-of-type {\n",
       "        vertical-align: middle;\n",
       "    }\n",
       "\n",
       "    .dataframe tbody tr th {\n",
       "        vertical-align: top;\n",
       "    }\n",
       "\n",
       "    .dataframe thead th {\n",
       "        text-align: right;\n",
       "    }\n",
       "</style>\n",
       "<table border=\"1\" class=\"dataframe\">\n",
       "  <thead>\n",
       "    <tr style=\"text-align: right;\">\n",
       "      <th></th>\n",
       "      <th>id</th>\n",
       "      <th>country_id</th>\n",
       "      <th>league_id</th>\n",
       "      <th>season</th>\n",
       "      <th>stage</th>\n",
       "      <th>date</th>\n",
       "      <th>match_api_id</th>\n",
       "      <th>home_team_api_id</th>\n",
       "      <th>away_team_api_id</th>\n",
       "      <th>home_team_goal</th>\n",
       "      <th>...</th>\n",
       "      <th>SJA</th>\n",
       "      <th>VCH</th>\n",
       "      <th>VCD</th>\n",
       "      <th>VCA</th>\n",
       "      <th>GBH</th>\n",
       "      <th>GBD</th>\n",
       "      <th>GBA</th>\n",
       "      <th>BSH</th>\n",
       "      <th>BSD</th>\n",
       "      <th>BSA</th>\n",
       "    </tr>\n",
       "  </thead>\n",
       "  <tbody>\n",
       "    <tr>\n",
       "      <th>0</th>\n",
       "      <td>1</td>\n",
       "      <td>1</td>\n",
       "      <td>1</td>\n",
       "      <td>2008/2009</td>\n",
       "      <td>1</td>\n",
       "      <td>2008-08-17 00:00:00</td>\n",
       "      <td>492473</td>\n",
       "      <td>9987</td>\n",
       "      <td>9993</td>\n",
       "      <td>1</td>\n",
       "      <td>...</td>\n",
       "      <td>4.00</td>\n",
       "      <td>1.65</td>\n",
       "      <td>3.40</td>\n",
       "      <td>4.50</td>\n",
       "      <td>1.78</td>\n",
       "      <td>3.25</td>\n",
       "      <td>4.00</td>\n",
       "      <td>1.73</td>\n",
       "      <td>3.40</td>\n",
       "      <td>4.20</td>\n",
       "    </tr>\n",
       "    <tr>\n",
       "      <th>1</th>\n",
       "      <td>2</td>\n",
       "      <td>1</td>\n",
       "      <td>1</td>\n",
       "      <td>2008/2009</td>\n",
       "      <td>1</td>\n",
       "      <td>2008-08-16 00:00:00</td>\n",
       "      <td>492474</td>\n",
       "      <td>10000</td>\n",
       "      <td>9994</td>\n",
       "      <td>0</td>\n",
       "      <td>...</td>\n",
       "      <td>3.80</td>\n",
       "      <td>2.00</td>\n",
       "      <td>3.25</td>\n",
       "      <td>3.25</td>\n",
       "      <td>1.85</td>\n",
       "      <td>3.25</td>\n",
       "      <td>3.75</td>\n",
       "      <td>1.91</td>\n",
       "      <td>3.25</td>\n",
       "      <td>3.60</td>\n",
       "    </tr>\n",
       "    <tr>\n",
       "      <th>2</th>\n",
       "      <td>3</td>\n",
       "      <td>1</td>\n",
       "      <td>1</td>\n",
       "      <td>2008/2009</td>\n",
       "      <td>1</td>\n",
       "      <td>2008-08-16 00:00:00</td>\n",
       "      <td>492475</td>\n",
       "      <td>9984</td>\n",
       "      <td>8635</td>\n",
       "      <td>0</td>\n",
       "      <td>...</td>\n",
       "      <td>2.50</td>\n",
       "      <td>2.35</td>\n",
       "      <td>3.25</td>\n",
       "      <td>2.65</td>\n",
       "      <td>2.50</td>\n",
       "      <td>3.20</td>\n",
       "      <td>2.50</td>\n",
       "      <td>2.30</td>\n",
       "      <td>3.20</td>\n",
       "      <td>2.75</td>\n",
       "    </tr>\n",
       "    <tr>\n",
       "      <th>3</th>\n",
       "      <td>4</td>\n",
       "      <td>1</td>\n",
       "      <td>1</td>\n",
       "      <td>2008/2009</td>\n",
       "      <td>1</td>\n",
       "      <td>2008-08-17 00:00:00</td>\n",
       "      <td>492476</td>\n",
       "      <td>9991</td>\n",
       "      <td>9998</td>\n",
       "      <td>5</td>\n",
       "      <td>...</td>\n",
       "      <td>7.50</td>\n",
       "      <td>1.45</td>\n",
       "      <td>3.75</td>\n",
       "      <td>6.50</td>\n",
       "      <td>1.50</td>\n",
       "      <td>3.75</td>\n",
       "      <td>5.50</td>\n",
       "      <td>1.44</td>\n",
       "      <td>3.75</td>\n",
       "      <td>6.50</td>\n",
       "    </tr>\n",
       "    <tr>\n",
       "      <th>4</th>\n",
       "      <td>5</td>\n",
       "      <td>1</td>\n",
       "      <td>1</td>\n",
       "      <td>2008/2009</td>\n",
       "      <td>1</td>\n",
       "      <td>2008-08-16 00:00:00</td>\n",
       "      <td>492477</td>\n",
       "      <td>7947</td>\n",
       "      <td>9985</td>\n",
       "      <td>1</td>\n",
       "      <td>...</td>\n",
       "      <td>1.73</td>\n",
       "      <td>4.50</td>\n",
       "      <td>3.40</td>\n",
       "      <td>1.65</td>\n",
       "      <td>4.50</td>\n",
       "      <td>3.50</td>\n",
       "      <td>1.65</td>\n",
       "      <td>4.75</td>\n",
       "      <td>3.30</td>\n",
       "      <td>1.67</td>\n",
       "    </tr>\n",
       "  </tbody>\n",
       "</table>\n",
       "<p>5 rows × 115 columns</p>\n",
       "</div>"
      ],
      "text/plain": [
       "   id  country_id  league_id     season  stage                 date  \\\n",
       "0   1           1          1  2008/2009      1  2008-08-17 00:00:00   \n",
       "1   2           1          1  2008/2009      1  2008-08-16 00:00:00   \n",
       "2   3           1          1  2008/2009      1  2008-08-16 00:00:00   \n",
       "3   4           1          1  2008/2009      1  2008-08-17 00:00:00   \n",
       "4   5           1          1  2008/2009      1  2008-08-16 00:00:00   \n",
       "\n",
       "   match_api_id  home_team_api_id  away_team_api_id  home_team_goal  ...  \\\n",
       "0        492473              9987              9993               1  ...   \n",
       "1        492474             10000              9994               0  ...   \n",
       "2        492475              9984              8635               0  ...   \n",
       "3        492476              9991              9998               5  ...   \n",
       "4        492477              7947              9985               1  ...   \n",
       "\n",
       "    SJA   VCH   VCD   VCA   GBH   GBD   GBA   BSH   BSD   BSA  \n",
       "0  4.00  1.65  3.40  4.50  1.78  3.25  4.00  1.73  3.40  4.20  \n",
       "1  3.80  2.00  3.25  3.25  1.85  3.25  3.75  1.91  3.25  3.60  \n",
       "2  2.50  2.35  3.25  2.65  2.50  3.20  2.50  2.30  3.20  2.75  \n",
       "3  7.50  1.45  3.75  6.50  1.50  3.75  5.50  1.44  3.75  6.50  \n",
       "4  1.73  4.50  3.40  1.65  4.50  3.50  1.65  4.75  3.30  1.67  \n",
       "\n",
       "[5 rows x 115 columns]"
      ]
     },
     "execution_count": 7,
     "metadata": {},
     "output_type": "execute_result"
    }
   ],
   "source": [
    "#match table data\n",
    "match = pd.read_sql(\"\"\"SELECT *\n",
    "                        FROM Match;\"\"\", conn)\n",
    "match.head(5) #returns the first 5 rows of the table"
   ]
  },
  {
   "cell_type": "code",
   "execution_count": 8,
   "id": "first-twins",
   "metadata": {},
   "outputs": [
    {
     "data": {
      "text/html": [
       "<div>\n",
       "<style scoped>\n",
       "    .dataframe tbody tr th:only-of-type {\n",
       "        vertical-align: middle;\n",
       "    }\n",
       "\n",
       "    .dataframe tbody tr th {\n",
       "        vertical-align: top;\n",
       "    }\n",
       "\n",
       "    .dataframe thead th {\n",
       "        text-align: right;\n",
       "    }\n",
       "</style>\n",
       "<table border=\"1\" class=\"dataframe\">\n",
       "  <thead>\n",
       "    <tr style=\"text-align: right;\">\n",
       "      <th></th>\n",
       "      <th>id</th>\n",
       "      <th>name</th>\n",
       "    </tr>\n",
       "  </thead>\n",
       "  <tbody>\n",
       "    <tr>\n",
       "      <th>10</th>\n",
       "      <td>24558</td>\n",
       "      <td>Switzerland</td>\n",
       "    </tr>\n",
       "    <tr>\n",
       "      <th>1</th>\n",
       "      <td>1729</td>\n",
       "      <td>England</td>\n",
       "    </tr>\n",
       "    <tr>\n",
       "      <th>2</th>\n",
       "      <td>4769</td>\n",
       "      <td>France</td>\n",
       "    </tr>\n",
       "    <tr>\n",
       "      <th>6</th>\n",
       "      <td>15722</td>\n",
       "      <td>Poland</td>\n",
       "    </tr>\n",
       "    <tr>\n",
       "      <th>0</th>\n",
       "      <td>1</td>\n",
       "      <td>Belgium</td>\n",
       "    </tr>\n",
       "  </tbody>\n",
       "</table>\n",
       "</div>"
      ],
      "text/plain": [
       "       id         name\n",
       "10  24558  Switzerland\n",
       "1    1729      England\n",
       "2    4769       France\n",
       "6   15722       Poland\n",
       "0       1      Belgium"
      ]
     },
     "execution_count": 8,
     "metadata": {},
     "output_type": "execute_result"
    }
   ],
   "source": [
    "#countries table data\n",
    "countries = pd.read_sql(\"\"\"SELECT *\n",
    "                        FROM Country;\"\"\", conn)\n",
    "countries.sample(5) # returns any 5 random rows of the table"
   ]
  },
  {
   "cell_type": "code",
   "execution_count": 9,
   "id": "republican-annotation",
   "metadata": {},
   "outputs": [
    {
     "data": {
      "text/html": [
       "<div>\n",
       "<style scoped>\n",
       "    .dataframe tbody tr th:only-of-type {\n",
       "        vertical-align: middle;\n",
       "    }\n",
       "\n",
       "    .dataframe tbody tr th {\n",
       "        vertical-align: top;\n",
       "    }\n",
       "\n",
       "    .dataframe thead th {\n",
       "        text-align: right;\n",
       "    }\n",
       "</style>\n",
       "<table border=\"1\" class=\"dataframe\">\n",
       "  <thead>\n",
       "    <tr style=\"text-align: right;\">\n",
       "      <th></th>\n",
       "      <th>id</th>\n",
       "      <th>player_fifa_api_id</th>\n",
       "      <th>player_api_id</th>\n",
       "      <th>date</th>\n",
       "      <th>overall_rating</th>\n",
       "      <th>potential</th>\n",
       "      <th>preferred_foot</th>\n",
       "      <th>attacking_work_rate</th>\n",
       "      <th>defensive_work_rate</th>\n",
       "      <th>crossing</th>\n",
       "      <th>...</th>\n",
       "      <th>vision</th>\n",
       "      <th>penalties</th>\n",
       "      <th>marking</th>\n",
       "      <th>standing_tackle</th>\n",
       "      <th>sliding_tackle</th>\n",
       "      <th>gk_diving</th>\n",
       "      <th>gk_handling</th>\n",
       "      <th>gk_kicking</th>\n",
       "      <th>gk_positioning</th>\n",
       "      <th>gk_reflexes</th>\n",
       "    </tr>\n",
       "  </thead>\n",
       "  <tbody>\n",
       "    <tr>\n",
       "      <th>21031</th>\n",
       "      <td>21032</td>\n",
       "      <td>208165</td>\n",
       "      <td>260964</td>\n",
       "      <td>2013-03-08 00:00:00</td>\n",
       "      <td>52.0</td>\n",
       "      <td>66.0</td>\n",
       "      <td>right</td>\n",
       "      <td>low</td>\n",
       "      <td>medium</td>\n",
       "      <td>27.0</td>\n",
       "      <td>...</td>\n",
       "      <td>26.0</td>\n",
       "      <td>36.0</td>\n",
       "      <td>47.0</td>\n",
       "      <td>60.0</td>\n",
       "      <td>44.0</td>\n",
       "      <td>9.0</td>\n",
       "      <td>5.0</td>\n",
       "      <td>12.0</td>\n",
       "      <td>9.0</td>\n",
       "      <td>9.0</td>\n",
       "    </tr>\n",
       "    <tr>\n",
       "      <th>100690</th>\n",
       "      <td>100691</td>\n",
       "      <td>206635</td>\n",
       "      <td>181793</td>\n",
       "      <td>2013-09-20 00:00:00</td>\n",
       "      <td>64.0</td>\n",
       "      <td>69.0</td>\n",
       "      <td>right</td>\n",
       "      <td>high</td>\n",
       "      <td>medium</td>\n",
       "      <td>53.0</td>\n",
       "      <td>...</td>\n",
       "      <td>72.0</td>\n",
       "      <td>59.0</td>\n",
       "      <td>49.0</td>\n",
       "      <td>47.0</td>\n",
       "      <td>39.0</td>\n",
       "      <td>7.0</td>\n",
       "      <td>11.0</td>\n",
       "      <td>6.0</td>\n",
       "      <td>7.0</td>\n",
       "      <td>13.0</td>\n",
       "    </tr>\n",
       "    <tr>\n",
       "      <th>95787</th>\n",
       "      <td>95788</td>\n",
       "      <td>210625</td>\n",
       "      <td>350472</td>\n",
       "      <td>2016-02-04 00:00:00</td>\n",
       "      <td>54.0</td>\n",
       "      <td>67.0</td>\n",
       "      <td>right</td>\n",
       "      <td>medium</td>\n",
       "      <td>medium</td>\n",
       "      <td>28.0</td>\n",
       "      <td>...</td>\n",
       "      <td>30.0</td>\n",
       "      <td>35.0</td>\n",
       "      <td>58.0</td>\n",
       "      <td>66.0</td>\n",
       "      <td>60.0</td>\n",
       "      <td>8.0</td>\n",
       "      <td>7.0</td>\n",
       "      <td>7.0</td>\n",
       "      <td>14.0</td>\n",
       "      <td>14.0</td>\n",
       "    </tr>\n",
       "    <tr>\n",
       "      <th>82420</th>\n",
       "      <td>82421</td>\n",
       "      <td>224309</td>\n",
       "      <td>574662</td>\n",
       "      <td>2007-02-22 00:00:00</td>\n",
       "      <td>57.0</td>\n",
       "      <td>71.0</td>\n",
       "      <td>right</td>\n",
       "      <td>medium</td>\n",
       "      <td>medium</td>\n",
       "      <td>42.0</td>\n",
       "      <td>...</td>\n",
       "      <td>60.0</td>\n",
       "      <td>49.0</td>\n",
       "      <td>38.0</td>\n",
       "      <td>56.0</td>\n",
       "      <td>49.0</td>\n",
       "      <td>12.0</td>\n",
       "      <td>11.0</td>\n",
       "      <td>12.0</td>\n",
       "      <td>11.0</td>\n",
       "      <td>8.0</td>\n",
       "    </tr>\n",
       "    <tr>\n",
       "      <th>110917</th>\n",
       "      <td>110918</td>\n",
       "      <td>176211</td>\n",
       "      <td>69229</td>\n",
       "      <td>2016-04-21 00:00:00</td>\n",
       "      <td>71.0</td>\n",
       "      <td>71.0</td>\n",
       "      <td>right</td>\n",
       "      <td>medium</td>\n",
       "      <td>low</td>\n",
       "      <td>36.0</td>\n",
       "      <td>...</td>\n",
       "      <td>63.0</td>\n",
       "      <td>82.0</td>\n",
       "      <td>21.0</td>\n",
       "      <td>19.0</td>\n",
       "      <td>24.0</td>\n",
       "      <td>15.0</td>\n",
       "      <td>7.0</td>\n",
       "      <td>7.0</td>\n",
       "      <td>15.0</td>\n",
       "      <td>7.0</td>\n",
       "    </tr>\n",
       "  </tbody>\n",
       "</table>\n",
       "<p>5 rows × 42 columns</p>\n",
       "</div>"
      ],
      "text/plain": [
       "            id  player_fifa_api_id  player_api_id                 date  \\\n",
       "21031    21032              208165         260964  2013-03-08 00:00:00   \n",
       "100690  100691              206635         181793  2013-09-20 00:00:00   \n",
       "95787    95788              210625         350472  2016-02-04 00:00:00   \n",
       "82420    82421              224309         574662  2007-02-22 00:00:00   \n",
       "110917  110918              176211          69229  2016-04-21 00:00:00   \n",
       "\n",
       "        overall_rating  potential preferred_foot attacking_work_rate  \\\n",
       "21031             52.0       66.0          right                 low   \n",
       "100690            64.0       69.0          right                high   \n",
       "95787             54.0       67.0          right              medium   \n",
       "82420             57.0       71.0          right              medium   \n",
       "110917            71.0       71.0          right              medium   \n",
       "\n",
       "       defensive_work_rate  crossing  ...  vision  penalties  marking  \\\n",
       "21031               medium      27.0  ...    26.0       36.0     47.0   \n",
       "100690              medium      53.0  ...    72.0       59.0     49.0   \n",
       "95787               medium      28.0  ...    30.0       35.0     58.0   \n",
       "82420               medium      42.0  ...    60.0       49.0     38.0   \n",
       "110917                 low      36.0  ...    63.0       82.0     21.0   \n",
       "\n",
       "        standing_tackle  sliding_tackle  gk_diving  gk_handling  gk_kicking  \\\n",
       "21031              60.0            44.0        9.0          5.0        12.0   \n",
       "100690             47.0            39.0        7.0         11.0         6.0   \n",
       "95787              66.0            60.0        8.0          7.0         7.0   \n",
       "82420              56.0            49.0       12.0         11.0        12.0   \n",
       "110917             19.0            24.0       15.0          7.0         7.0   \n",
       "\n",
       "        gk_positioning  gk_reflexes  \n",
       "21031              9.0          9.0  \n",
       "100690             7.0         13.0  \n",
       "95787             14.0         14.0  \n",
       "82420             11.0          8.0  \n",
       "110917            15.0          7.0  \n",
       "\n",
       "[5 rows x 42 columns]"
      ]
     },
     "execution_count": 9,
     "metadata": {},
     "output_type": "execute_result"
    }
   ],
   "source": [
    "#player attributes data\n",
    "player_attributes = pd.read_sql(\"\"\"SELECT *\n",
    "                        FROM Player_Attributes;\"\"\", conn)\n",
    "player_attributes.sample(5) #returns any random 5 rows of the table"
   ]
  },
  {
   "cell_type": "code",
   "execution_count": 10,
   "id": "veterinary-method",
   "metadata": {},
   "outputs": [
    {
     "data": {
      "text/html": [
       "<div>\n",
       "<style scoped>\n",
       "    .dataframe tbody tr th:only-of-type {\n",
       "        vertical-align: middle;\n",
       "    }\n",
       "\n",
       "    .dataframe tbody tr th {\n",
       "        vertical-align: top;\n",
       "    }\n",
       "\n",
       "    .dataframe thead th {\n",
       "        text-align: right;\n",
       "    }\n",
       "</style>\n",
       "<table border=\"1\" class=\"dataframe\">\n",
       "  <thead>\n",
       "    <tr style=\"text-align: right;\">\n",
       "      <th></th>\n",
       "      <th>id</th>\n",
       "      <th>player_api_id</th>\n",
       "      <th>player_name</th>\n",
       "      <th>player_fifa_api_id</th>\n",
       "      <th>birthday</th>\n",
       "      <th>height</th>\n",
       "      <th>weight</th>\n",
       "    </tr>\n",
       "  </thead>\n",
       "  <tbody>\n",
       "    <tr>\n",
       "      <th>7887</th>\n",
       "      <td>7899</td>\n",
       "      <td>42601</td>\n",
       "      <td>Nico Pulzetti</td>\n",
       "      <td>157801</td>\n",
       "      <td>1984-02-13 00:00:00</td>\n",
       "      <td>175.26</td>\n",
       "      <td>154</td>\n",
       "    </tr>\n",
       "    <tr>\n",
       "      <th>6626</th>\n",
       "      <td>6636</td>\n",
       "      <td>206508</td>\n",
       "      <td>Marcelo Brozovic</td>\n",
       "      <td>216352</td>\n",
       "      <td>1992-11-16 00:00:00</td>\n",
       "      <td>180.34</td>\n",
       "      <td>150</td>\n",
       "    </tr>\n",
       "    <tr>\n",
       "      <th>9723</th>\n",
       "      <td>9739</td>\n",
       "      <td>24224</td>\n",
       "      <td>Shay Given</td>\n",
       "      <td>2651</td>\n",
       "      <td>1976-04-20 00:00:00</td>\n",
       "      <td>185.42</td>\n",
       "      <td>185</td>\n",
       "    </tr>\n",
       "    <tr>\n",
       "      <th>2279</th>\n",
       "      <td>2282</td>\n",
       "      <td>304855</td>\n",
       "      <td>Darko Jevtic</td>\n",
       "      <td>208160</td>\n",
       "      <td>1993-02-08 00:00:00</td>\n",
       "      <td>182.88</td>\n",
       "      <td>163</td>\n",
       "    </tr>\n",
       "    <tr>\n",
       "      <th>1151</th>\n",
       "      <td>1154</td>\n",
       "      <td>178284</td>\n",
       "      <td>Bavon Tshibuabua</td>\n",
       "      <td>193518</td>\n",
       "      <td>1991-07-17 00:00:00</td>\n",
       "      <td>177.80</td>\n",
       "      <td>157</td>\n",
       "    </tr>\n",
       "  </tbody>\n",
       "</table>\n",
       "</div>"
      ],
      "text/plain": [
       "        id  player_api_id       player_name  player_fifa_api_id  \\\n",
       "7887  7899          42601     Nico Pulzetti              157801   \n",
       "6626  6636         206508  Marcelo Brozovic              216352   \n",
       "9723  9739          24224        Shay Given                2651   \n",
       "2279  2282         304855      Darko Jevtic              208160   \n",
       "1151  1154         178284  Bavon Tshibuabua              193518   \n",
       "\n",
       "                 birthday  height  weight  \n",
       "7887  1984-02-13 00:00:00  175.26     154  \n",
       "6626  1992-11-16 00:00:00  180.34     150  \n",
       "9723  1976-04-20 00:00:00  185.42     185  \n",
       "2279  1993-02-08 00:00:00  182.88     163  \n",
       "1151  1991-07-17 00:00:00  177.80     157  "
      ]
     },
     "execution_count": 10,
     "metadata": {},
     "output_type": "execute_result"
    }
   ],
   "source": [
    "#player data\n",
    "player = pd.read_sql(\"\"\"SELECT *\n",
    "                        FROM player;\"\"\", conn)\n",
    "player.sample(5) # returns any random 5 rows of the table"
   ]
  },
  {
   "cell_type": "markdown",
   "id": "collect-thriller",
   "metadata": {},
   "source": [
    "### USING SQL TO EXTRACT  RELEVANT  FEATURES FROM THE DATA BASE AND CURATE  DATASETS FOR ANALYSIS"
   ]
  },
  {
   "cell_type": "markdown",
   "id": "immediate-credit",
   "metadata": {},
   "source": [
    "##### 1. PLAYERS DATASET\n",
    " To create this dataset, some features from the player table and the player attributes table were selected using the SELECT syntax of SQL and then merged together using the JOIN syntax to create a dataset containing certain information about the players."
   ]
  },
  {
   "cell_type": "code",
   "execution_count": 11,
   "id": "indie-possession",
   "metadata": {},
   "outputs": [
    {
     "data": {
      "text/html": [
       "<div>\n",
       "<style scoped>\n",
       "    .dataframe tbody tr th:only-of-type {\n",
       "        vertical-align: middle;\n",
       "    }\n",
       "\n",
       "    .dataframe tbody tr th {\n",
       "        vertical-align: top;\n",
       "    }\n",
       "\n",
       "    .dataframe thead th {\n",
       "        text-align: right;\n",
       "    }\n",
       "</style>\n",
       "<table border=\"1\" class=\"dataframe\">\n",
       "  <thead>\n",
       "    <tr style=\"text-align: right;\">\n",
       "      <th></th>\n",
       "      <th>id</th>\n",
       "      <th>player_name</th>\n",
       "      <th>birthday</th>\n",
       "      <th>height</th>\n",
       "      <th>weight</th>\n",
       "      <th>overall_rating</th>\n",
       "      <th>potential</th>\n",
       "      <th>preferred_foot</th>\n",
       "      <th>ball_control</th>\n",
       "      <th>free_kick_accuracy</th>\n",
       "      <th>agility</th>\n",
       "      <th>strength</th>\n",
       "      <th>aggression</th>\n",
       "      <th>penalties</th>\n",
       "    </tr>\n",
       "  </thead>\n",
       "  <tbody>\n",
       "    <tr>\n",
       "      <th>154436</th>\n",
       "      <td>154437</td>\n",
       "      <td>Ruben Pardo</td>\n",
       "      <td>1992-10-22 00:00:00</td>\n",
       "      <td>182.88</td>\n",
       "      <td>150</td>\n",
       "      <td>70.0</td>\n",
       "      <td>81.0</td>\n",
       "      <td>right</td>\n",
       "      <td>74.0</td>\n",
       "      <td>68.0</td>\n",
       "      <td>79.0</td>\n",
       "      <td>40.0</td>\n",
       "      <td>58.0</td>\n",
       "      <td>60.0</td>\n",
       "    </tr>\n",
       "    <tr>\n",
       "      <th>92611</th>\n",
       "      <td>92612</td>\n",
       "      <td>Kader Mangane</td>\n",
       "      <td>1983-03-23 00:00:00</td>\n",
       "      <td>193.04</td>\n",
       "      <td>198</td>\n",
       "      <td>64.0</td>\n",
       "      <td>74.0</td>\n",
       "      <td>right</td>\n",
       "      <td>53.0</td>\n",
       "      <td>54.0</td>\n",
       "      <td>66.0</td>\n",
       "      <td>65.0</td>\n",
       "      <td>63.0</td>\n",
       "      <td>51.0</td>\n",
       "    </tr>\n",
       "    <tr>\n",
       "      <th>30598</th>\n",
       "      <td>30599</td>\n",
       "      <td>Ciaran Clark</td>\n",
       "      <td>1989-09-26 00:00:00</td>\n",
       "      <td>187.96</td>\n",
       "      <td>168</td>\n",
       "      <td>71.0</td>\n",
       "      <td>77.0</td>\n",
       "      <td>right</td>\n",
       "      <td>58.0</td>\n",
       "      <td>35.0</td>\n",
       "      <td>49.0</td>\n",
       "      <td>71.0</td>\n",
       "      <td>72.0</td>\n",
       "      <td>38.0</td>\n",
       "    </tr>\n",
       "    <tr>\n",
       "      <th>3913</th>\n",
       "      <td>3914</td>\n",
       "      <td>Aislan</td>\n",
       "      <td>1988-01-11 00:00:00</td>\n",
       "      <td>193.04</td>\n",
       "      <td>198</td>\n",
       "      <td>67.0</td>\n",
       "      <td>72.0</td>\n",
       "      <td>right</td>\n",
       "      <td>61.0</td>\n",
       "      <td>45.0</td>\n",
       "      <td>66.0</td>\n",
       "      <td>78.0</td>\n",
       "      <td>68.0</td>\n",
       "      <td>52.0</td>\n",
       "    </tr>\n",
       "    <tr>\n",
       "      <th>37614</th>\n",
       "      <td>37615</td>\n",
       "      <td>Danny Simpson</td>\n",
       "      <td>1987-01-04 00:00:00</td>\n",
       "      <td>177.80</td>\n",
       "      <td>170</td>\n",
       "      <td>70.0</td>\n",
       "      <td>75.0</td>\n",
       "      <td>right</td>\n",
       "      <td>61.0</td>\n",
       "      <td>31.0</td>\n",
       "      <td>60.0</td>\n",
       "      <td>66.0</td>\n",
       "      <td>72.0</td>\n",
       "      <td>54.0</td>\n",
       "    </tr>\n",
       "  </tbody>\n",
       "</table>\n",
       "</div>"
      ],
      "text/plain": [
       "            id    player_name             birthday  height  weight  \\\n",
       "154436  154437    Ruben Pardo  1992-10-22 00:00:00  182.88     150   \n",
       "92611    92612  Kader Mangane  1983-03-23 00:00:00  193.04     198   \n",
       "30598    30599   Ciaran Clark  1989-09-26 00:00:00  187.96     168   \n",
       "3913      3914         Aislan  1988-01-11 00:00:00  193.04     198   \n",
       "37614    37615  Danny Simpson  1987-01-04 00:00:00  177.80     170   \n",
       "\n",
       "        overall_rating  potential preferred_foot  ball_control  \\\n",
       "154436            70.0       81.0          right          74.0   \n",
       "92611             64.0       74.0          right          53.0   \n",
       "30598             71.0       77.0          right          58.0   \n",
       "3913              67.0       72.0          right          61.0   \n",
       "37614             70.0       75.0          right          61.0   \n",
       "\n",
       "        free_kick_accuracy  agility  strength  aggression  penalties  \n",
       "154436                68.0     79.0      40.0        58.0       60.0  \n",
       "92611                 54.0     66.0      65.0        63.0       51.0  \n",
       "30598                 35.0     49.0      71.0        72.0       38.0  \n",
       "3913                  45.0     66.0      78.0        68.0       52.0  \n",
       "37614                 31.0     60.0      66.0        72.0       54.0  "
      ]
     },
     "execution_count": 11,
     "metadata": {},
     "output_type": "execute_result"
    }
   ],
   "source": [
    "# PLAYERS DATASET\n",
    "players = pd.read_sql(\"\"\"SELECT Player_Attributes.id, \n",
    "                Player.player_name AS player_name, \n",
    "                Player.birthday AS birthday, \n",
    "                Player.height AS height, \n",
    "                Player.weight AS weight,\n",
    "                overall_rating,\n",
    "                potential,\n",
    "                preferred_foot,\n",
    "                ball_control,\n",
    "                free_kick_accuracy,\n",
    "                agility,\n",
    "                strength,\n",
    "                aggression,\n",
    "                penalties\n",
    "                FROM Player_Attributes\n",
    "                JOIN Player on Player.player_api_id = Player_Attributes.player_api_id; \"\"\", conn)\n",
    "\n",
    "players.sample(5) # returns 5 random rows of the newly created player dataset "
   ]
  },
  {
   "cell_type": "markdown",
   "id": "representative-listening",
   "metadata": {},
   "source": [
    "##### 2. MATCH DATASET\n",
    "To create this dataset,some features were selected from the country table, league table, team table and match table using the SELECT syntax of SQL and merged together using the join SYNTAX of SQL. "
   ]
  },
  {
   "cell_type": "code",
   "execution_count": 12,
   "id": "auburn-christopher",
   "metadata": {},
   "outputs": [
    {
     "data": {
      "text/html": [
       "<div>\n",
       "<style scoped>\n",
       "    .dataframe tbody tr th:only-of-type {\n",
       "        vertical-align: middle;\n",
       "    }\n",
       "\n",
       "    .dataframe tbody tr th {\n",
       "        vertical-align: top;\n",
       "    }\n",
       "\n",
       "    .dataframe thead th {\n",
       "        text-align: right;\n",
       "    }\n",
       "</style>\n",
       "<table border=\"1\" class=\"dataframe\">\n",
       "  <thead>\n",
       "    <tr style=\"text-align: right;\">\n",
       "      <th></th>\n",
       "      <th>id</th>\n",
       "      <th>country_name</th>\n",
       "      <th>league_name</th>\n",
       "      <th>season</th>\n",
       "      <th>date</th>\n",
       "      <th>home_team</th>\n",
       "      <th>away_team</th>\n",
       "      <th>home_team_goal</th>\n",
       "      <th>away_team_goal</th>\n",
       "    </tr>\n",
       "  </thead>\n",
       "  <tbody>\n",
       "    <tr>\n",
       "      <th>0</th>\n",
       "      <td>1</td>\n",
       "      <td>Belgium</td>\n",
       "      <td>Belgium Jupiler League</td>\n",
       "      <td>2008/2009</td>\n",
       "      <td>2008-08-17 00:00:00</td>\n",
       "      <td>KRC Genk</td>\n",
       "      <td>Beerschot AC</td>\n",
       "      <td>1</td>\n",
       "      <td>1</td>\n",
       "    </tr>\n",
       "    <tr>\n",
       "      <th>1</th>\n",
       "      <td>2</td>\n",
       "      <td>Belgium</td>\n",
       "      <td>Belgium Jupiler League</td>\n",
       "      <td>2008/2009</td>\n",
       "      <td>2008-08-16 00:00:00</td>\n",
       "      <td>SV Zulte-Waregem</td>\n",
       "      <td>Sporting Lokeren</td>\n",
       "      <td>0</td>\n",
       "      <td>0</td>\n",
       "    </tr>\n",
       "    <tr>\n",
       "      <th>2</th>\n",
       "      <td>3</td>\n",
       "      <td>Belgium</td>\n",
       "      <td>Belgium Jupiler League</td>\n",
       "      <td>2008/2009</td>\n",
       "      <td>2008-08-16 00:00:00</td>\n",
       "      <td>KSV Cercle Brugge</td>\n",
       "      <td>RSC Anderlecht</td>\n",
       "      <td>0</td>\n",
       "      <td>3</td>\n",
       "    </tr>\n",
       "    <tr>\n",
       "      <th>3</th>\n",
       "      <td>4</td>\n",
       "      <td>Belgium</td>\n",
       "      <td>Belgium Jupiler League</td>\n",
       "      <td>2008/2009</td>\n",
       "      <td>2008-08-17 00:00:00</td>\n",
       "      <td>KAA Gent</td>\n",
       "      <td>RAEC Mons</td>\n",
       "      <td>5</td>\n",
       "      <td>0</td>\n",
       "    </tr>\n",
       "    <tr>\n",
       "      <th>4</th>\n",
       "      <td>5</td>\n",
       "      <td>Belgium</td>\n",
       "      <td>Belgium Jupiler League</td>\n",
       "      <td>2008/2009</td>\n",
       "      <td>2008-08-16 00:00:00</td>\n",
       "      <td>FCV Dender EH</td>\n",
       "      <td>Standard de Liège</td>\n",
       "      <td>1</td>\n",
       "      <td>3</td>\n",
       "    </tr>\n",
       "  </tbody>\n",
       "</table>\n",
       "</div>"
      ],
      "text/plain": [
       "   id country_name             league_name     season                 date  \\\n",
       "0   1      Belgium  Belgium Jupiler League  2008/2009  2008-08-17 00:00:00   \n",
       "1   2      Belgium  Belgium Jupiler League  2008/2009  2008-08-16 00:00:00   \n",
       "2   3      Belgium  Belgium Jupiler League  2008/2009  2008-08-16 00:00:00   \n",
       "3   4      Belgium  Belgium Jupiler League  2008/2009  2008-08-17 00:00:00   \n",
       "4   5      Belgium  Belgium Jupiler League  2008/2009  2008-08-16 00:00:00   \n",
       "\n",
       "           home_team          away_team  home_team_goal  away_team_goal  \n",
       "0           KRC Genk       Beerschot AC               1               1  \n",
       "1   SV Zulte-Waregem   Sporting Lokeren               0               0  \n",
       "2  KSV Cercle Brugge     RSC Anderlecht               0               3  \n",
       "3           KAA Gent          RAEC Mons               5               0  \n",
       "4      FCV Dender EH  Standard de Liège               1               3  "
      ]
     },
     "execution_count": 12,
     "metadata": {},
     "output_type": "execute_result"
    }
   ],
   "source": [
    "#MATCH DATASET\n",
    "matches = pd.read_sql(\"\"\"SELECT Match.id, \n",
    "                Country.name AS country_name, \n",
    "                League.name AS league_name, \n",
    "                season,  \n",
    "                date,\n",
    "                HT.team_long_name AS  home_team,\n",
    "                AT.team_long_name AS away_team,\n",
    "                home_team_goal, \n",
    "                away_team_goal\n",
    "                FROM Match\n",
    "                JOIN Country on Country.id = Match.country_id\n",
    "                JOIN League on League.id = Match.league_id\n",
    "                LEFT JOIN Team AS HT on HT.team_api_id = Match.home_team_api_id\n",
    "                LEFT JOIN Team AS AT on AT.team_api_id = Match.away_team_api_id; \"\"\", conn)\n",
    "\n",
    "matches.head(5) # returns 5 random rows of the newly created matches dataset "
   ]
  },
  {
   "cell_type": "raw",
   "id": "overhead-police",
   "metadata": {},
   "source": []
  },
  {
   "cell_type": "markdown",
   "id": "agreed-insulation",
   "metadata": {},
   "source": [
    "### GENERAL PROPERTIES AND DATA CLEANING ON THE PLAYER DATASET"
   ]
  },
  {
   "cell_type": "markdown",
   "id": "material-rapid",
   "metadata": {},
   "source": [
    "> To make this dataset a little cleaner, the date-time stamp in the birthday columns was splitted and the birthday year was extracted and kept for further analysis. \n",
    ">\n",
    ">The birthday column was however dropped"
   ]
  },
  {
   "cell_type": "code",
   "execution_count": 13,
   "id": "noticed-playback",
   "metadata": {},
   "outputs": [
    {
     "data": {
      "text/html": [
       "<div>\n",
       "<style scoped>\n",
       "    .dataframe tbody tr th:only-of-type {\n",
       "        vertical-align: middle;\n",
       "    }\n",
       "\n",
       "    .dataframe tbody tr th {\n",
       "        vertical-align: top;\n",
       "    }\n",
       "\n",
       "    .dataframe thead th {\n",
       "        text-align: right;\n",
       "    }\n",
       "</style>\n",
       "<table border=\"1\" class=\"dataframe\">\n",
       "  <thead>\n",
       "    <tr style=\"text-align: right;\">\n",
       "      <th></th>\n",
       "      <th>id</th>\n",
       "      <th>player_name</th>\n",
       "      <th>height</th>\n",
       "      <th>weight</th>\n",
       "      <th>overall_rating</th>\n",
       "      <th>potential</th>\n",
       "      <th>preferred_foot</th>\n",
       "      <th>ball_control</th>\n",
       "      <th>free_kick_accuracy</th>\n",
       "      <th>agility</th>\n",
       "      <th>strength</th>\n",
       "      <th>aggression</th>\n",
       "      <th>penalties</th>\n",
       "      <th>birth_year</th>\n",
       "    </tr>\n",
       "  </thead>\n",
       "  <tbody>\n",
       "    <tr>\n",
       "      <th>0</th>\n",
       "      <td>1</td>\n",
       "      <td>Aaron Appindangoye</td>\n",
       "      <td>182.88</td>\n",
       "      <td>187</td>\n",
       "      <td>67.0</td>\n",
       "      <td>71.0</td>\n",
       "      <td>right</td>\n",
       "      <td>49.0</td>\n",
       "      <td>39.0</td>\n",
       "      <td>59.0</td>\n",
       "      <td>76.0</td>\n",
       "      <td>71.0</td>\n",
       "      <td>48.0</td>\n",
       "      <td>1992</td>\n",
       "    </tr>\n",
       "    <tr>\n",
       "      <th>1</th>\n",
       "      <td>2</td>\n",
       "      <td>Aaron Appindangoye</td>\n",
       "      <td>182.88</td>\n",
       "      <td>187</td>\n",
       "      <td>67.0</td>\n",
       "      <td>71.0</td>\n",
       "      <td>right</td>\n",
       "      <td>49.0</td>\n",
       "      <td>39.0</td>\n",
       "      <td>59.0</td>\n",
       "      <td>76.0</td>\n",
       "      <td>71.0</td>\n",
       "      <td>48.0</td>\n",
       "      <td>1992</td>\n",
       "    </tr>\n",
       "    <tr>\n",
       "      <th>2</th>\n",
       "      <td>3</td>\n",
       "      <td>Aaron Appindangoye</td>\n",
       "      <td>182.88</td>\n",
       "      <td>187</td>\n",
       "      <td>62.0</td>\n",
       "      <td>66.0</td>\n",
       "      <td>right</td>\n",
       "      <td>49.0</td>\n",
       "      <td>39.0</td>\n",
       "      <td>59.0</td>\n",
       "      <td>76.0</td>\n",
       "      <td>63.0</td>\n",
       "      <td>48.0</td>\n",
       "      <td>1992</td>\n",
       "    </tr>\n",
       "    <tr>\n",
       "      <th>3</th>\n",
       "      <td>4</td>\n",
       "      <td>Aaron Appindangoye</td>\n",
       "      <td>182.88</td>\n",
       "      <td>187</td>\n",
       "      <td>61.0</td>\n",
       "      <td>65.0</td>\n",
       "      <td>right</td>\n",
       "      <td>48.0</td>\n",
       "      <td>38.0</td>\n",
       "      <td>59.0</td>\n",
       "      <td>76.0</td>\n",
       "      <td>62.0</td>\n",
       "      <td>47.0</td>\n",
       "      <td>1992</td>\n",
       "    </tr>\n",
       "    <tr>\n",
       "      <th>4</th>\n",
       "      <td>5</td>\n",
       "      <td>Aaron Appindangoye</td>\n",
       "      <td>182.88</td>\n",
       "      <td>187</td>\n",
       "      <td>61.0</td>\n",
       "      <td>65.0</td>\n",
       "      <td>right</td>\n",
       "      <td>48.0</td>\n",
       "      <td>38.0</td>\n",
       "      <td>59.0</td>\n",
       "      <td>76.0</td>\n",
       "      <td>62.0</td>\n",
       "      <td>47.0</td>\n",
       "      <td>1992</td>\n",
       "    </tr>\n",
       "  </tbody>\n",
       "</table>\n",
       "</div>"
      ],
      "text/plain": [
       "   id         player_name  height  weight  overall_rating  potential  \\\n",
       "0   1  Aaron Appindangoye  182.88     187            67.0       71.0   \n",
       "1   2  Aaron Appindangoye  182.88     187            67.0       71.0   \n",
       "2   3  Aaron Appindangoye  182.88     187            62.0       66.0   \n",
       "3   4  Aaron Appindangoye  182.88     187            61.0       65.0   \n",
       "4   5  Aaron Appindangoye  182.88     187            61.0       65.0   \n",
       "\n",
       "  preferred_foot  ball_control  free_kick_accuracy  agility  strength  \\\n",
       "0          right          49.0                39.0     59.0      76.0   \n",
       "1          right          49.0                39.0     59.0      76.0   \n",
       "2          right          49.0                39.0     59.0      76.0   \n",
       "3          right          48.0                38.0     59.0      76.0   \n",
       "4          right          48.0                38.0     59.0      76.0   \n",
       "\n",
       "   aggression  penalties birth_year  \n",
       "0        71.0       48.0       1992  \n",
       "1        71.0       48.0       1992  \n",
       "2        63.0       48.0       1992  \n",
       "3        62.0       47.0       1992  \n",
       "4        62.0       47.0       1992  "
      ]
     },
     "execution_count": 13,
     "metadata": {},
     "output_type": "execute_result"
    }
   ],
   "source": [
    "#Obtaining the datestamp from the birthday column (recall the birthday column has both date and time stamp)\n",
    "players['birthday']=pd.to_datetime(players['birthday']).dt.date\n",
    "\n",
    "#Extracting only the years from the datestamp and converting the data type to categorical for analysis\n",
    "players['birth_year'] = pd.DatetimeIndex(players['birthday']).year.astype('category')\n",
    "\n",
    "#dropping the birthday column\n",
    "players.drop('birthday', inplace =True, axis=1)\n",
    "\n",
    "#viewing the final result\n",
    "players.head(5)"
   ]
  },
  {
   "cell_type": "code",
   "execution_count": 14,
   "id": "pacific-franchise",
   "metadata": {},
   "outputs": [
    {
     "name": "stdout",
     "output_type": "stream",
     "text": [
      "<class 'pandas.core.frame.DataFrame'>\n",
      "RangeIndex: 183978 entries, 0 to 183977\n",
      "Data columns (total 14 columns):\n",
      " #   Column              Non-Null Count   Dtype   \n",
      "---  ------              --------------   -----   \n",
      " 0   id                  183978 non-null  int64   \n",
      " 1   player_name         183978 non-null  object  \n",
      " 2   height              183978 non-null  float64 \n",
      " 3   weight              183978 non-null  int64   \n",
      " 4   overall_rating      183142 non-null  float64 \n",
      " 5   potential           183142 non-null  float64 \n",
      " 6   preferred_foot      183142 non-null  object  \n",
      " 7   ball_control        183142 non-null  float64 \n",
      " 8   free_kick_accuracy  183142 non-null  float64 \n",
      " 9   agility             181265 non-null  float64 \n",
      " 10  strength            183142 non-null  float64 \n",
      " 11  aggression          183142 non-null  float64 \n",
      " 12  penalties           183142 non-null  float64 \n",
      " 13  birth_year          183978 non-null  category\n",
      "dtypes: category(1), float64(9), int64(2), object(2)\n",
      "memory usage: 18.4+ MB\n"
     ]
    }
   ],
   "source": [
    "#checking the general information of the dataset\n",
    "players.info()"
   ]
  },
  {
   "cell_type": "markdown",
   "id": "contemporary-richardson",
   "metadata": {},
   "source": [
    "> There are 4 different data types in this dataset, a couple of missing values and it occupies a storage space of 18.4MB"
   ]
  },
  {
   "cell_type": "code",
   "execution_count": 15,
   "id": "sized-booking",
   "metadata": {},
   "outputs": [
    {
     "data": {
      "text/plain": [
       "id                       0\n",
       "player_name              0\n",
       "height                   0\n",
       "weight                   0\n",
       "overall_rating         836\n",
       "potential              836\n",
       "preferred_foot         836\n",
       "ball_control           836\n",
       "free_kick_accuracy     836\n",
       "agility               2713\n",
       "strength               836\n",
       "aggression             836\n",
       "penalties              836\n",
       "birth_year               0\n",
       "dtype: int64"
      ]
     },
     "execution_count": 15,
     "metadata": {},
     "output_type": "execute_result"
    }
   ],
   "source": [
    "#checking for missing values\n",
    "players.isnull().sum()"
   ]
  },
  {
   "cell_type": "markdown",
   "id": "crazy-language",
   "metadata": {},
   "source": [
    "> Missing values are present in some columns. They will not be dropped because the amount missing is little compared to the total amount of dataset. Hence we really won't be missing a whole lot of information."
   ]
  },
  {
   "cell_type": "code",
   "execution_count": 16,
   "id": "danish-politics",
   "metadata": {},
   "outputs": [
    {
     "data": {
      "text/plain": [
       "False"
      ]
     },
     "execution_count": 16,
     "metadata": {},
     "output_type": "execute_result"
    }
   ],
   "source": [
    "#checking for duplicated rows\n",
    "players.duplicated().all()"
   ]
  },
  {
   "cell_type": "markdown",
   "id": "decreased-generation",
   "metadata": {},
   "source": [
    "> There are no duplicated rows"
   ]
  },
  {
   "cell_type": "code",
   "execution_count": 17,
   "id": "functioning-spell",
   "metadata": {},
   "outputs": [
    {
     "data": {
      "text/html": [
       "<div>\n",
       "<style scoped>\n",
       "    .dataframe tbody tr th:only-of-type {\n",
       "        vertical-align: middle;\n",
       "    }\n",
       "\n",
       "    .dataframe tbody tr th {\n",
       "        vertical-align: top;\n",
       "    }\n",
       "\n",
       "    .dataframe thead th {\n",
       "        text-align: right;\n",
       "    }\n",
       "</style>\n",
       "<table border=\"1\" class=\"dataframe\">\n",
       "  <thead>\n",
       "    <tr style=\"text-align: right;\">\n",
       "      <th></th>\n",
       "      <th>count</th>\n",
       "      <th>unique</th>\n",
       "      <th>top</th>\n",
       "      <th>freq</th>\n",
       "      <th>mean</th>\n",
       "      <th>std</th>\n",
       "      <th>min</th>\n",
       "      <th>25%</th>\n",
       "      <th>50%</th>\n",
       "      <th>75%</th>\n",
       "      <th>max</th>\n",
       "    </tr>\n",
       "  </thead>\n",
       "  <tbody>\n",
       "    <tr>\n",
       "      <th>id</th>\n",
       "      <td>183978</td>\n",
       "      <td>NaN</td>\n",
       "      <td>NaN</td>\n",
       "      <td>NaN</td>\n",
       "      <td>91989.5</td>\n",
       "      <td>53110</td>\n",
       "      <td>1</td>\n",
       "      <td>45995.2</td>\n",
       "      <td>91989.5</td>\n",
       "      <td>137984</td>\n",
       "      <td>183978</td>\n",
       "    </tr>\n",
       "    <tr>\n",
       "      <th>player_name</th>\n",
       "      <td>183978</td>\n",
       "      <td>10848</td>\n",
       "      <td>Danilo</td>\n",
       "      <td>108</td>\n",
       "      <td>NaN</td>\n",
       "      <td>NaN</td>\n",
       "      <td>NaN</td>\n",
       "      <td>NaN</td>\n",
       "      <td>NaN</td>\n",
       "      <td>NaN</td>\n",
       "      <td>NaN</td>\n",
       "    </tr>\n",
       "    <tr>\n",
       "      <th>height</th>\n",
       "      <td>183978</td>\n",
       "      <td>NaN</td>\n",
       "      <td>NaN</td>\n",
       "      <td>NaN</td>\n",
       "      <td>181.879</td>\n",
       "      <td>6.39482</td>\n",
       "      <td>157.48</td>\n",
       "      <td>177.8</td>\n",
       "      <td>182.88</td>\n",
       "      <td>185.42</td>\n",
       "      <td>208.28</td>\n",
       "    </tr>\n",
       "    <tr>\n",
       "      <th>weight</th>\n",
       "      <td>183978</td>\n",
       "      <td>NaN</td>\n",
       "      <td>NaN</td>\n",
       "      <td>NaN</td>\n",
       "      <td>168.776</td>\n",
       "      <td>15.0889</td>\n",
       "      <td>117</td>\n",
       "      <td>159</td>\n",
       "      <td>168</td>\n",
       "      <td>179</td>\n",
       "      <td>243</td>\n",
       "    </tr>\n",
       "    <tr>\n",
       "      <th>overall_rating</th>\n",
       "      <td>183142</td>\n",
       "      <td>NaN</td>\n",
       "      <td>NaN</td>\n",
       "      <td>NaN</td>\n",
       "      <td>68.6</td>\n",
       "      <td>7.04114</td>\n",
       "      <td>33</td>\n",
       "      <td>64</td>\n",
       "      <td>69</td>\n",
       "      <td>73</td>\n",
       "      <td>94</td>\n",
       "    </tr>\n",
       "    <tr>\n",
       "      <th>potential</th>\n",
       "      <td>183142</td>\n",
       "      <td>NaN</td>\n",
       "      <td>NaN</td>\n",
       "      <td>NaN</td>\n",
       "      <td>73.4604</td>\n",
       "      <td>6.59227</td>\n",
       "      <td>39</td>\n",
       "      <td>69</td>\n",
       "      <td>74</td>\n",
       "      <td>78</td>\n",
       "      <td>97</td>\n",
       "    </tr>\n",
       "    <tr>\n",
       "      <th>preferred_foot</th>\n",
       "      <td>183142</td>\n",
       "      <td>2</td>\n",
       "      <td>right</td>\n",
       "      <td>138409</td>\n",
       "      <td>NaN</td>\n",
       "      <td>NaN</td>\n",
       "      <td>NaN</td>\n",
       "      <td>NaN</td>\n",
       "      <td>NaN</td>\n",
       "      <td>NaN</td>\n",
       "      <td>NaN</td>\n",
       "    </tr>\n",
       "    <tr>\n",
       "      <th>ball_control</th>\n",
       "      <td>183142</td>\n",
       "      <td>NaN</td>\n",
       "      <td>NaN</td>\n",
       "      <td>NaN</td>\n",
       "      <td>63.3889</td>\n",
       "      <td>15.1967</td>\n",
       "      <td>5</td>\n",
       "      <td>58</td>\n",
       "      <td>67</td>\n",
       "      <td>73</td>\n",
       "      <td>97</td>\n",
       "    </tr>\n",
       "    <tr>\n",
       "      <th>free_kick_accuracy</th>\n",
       "      <td>183142</td>\n",
       "      <td>NaN</td>\n",
       "      <td>NaN</td>\n",
       "      <td>NaN</td>\n",
       "      <td>49.381</td>\n",
       "      <td>17.8317</td>\n",
       "      <td>1</td>\n",
       "      <td>36</td>\n",
       "      <td>50</td>\n",
       "      <td>63</td>\n",
       "      <td>97</td>\n",
       "    </tr>\n",
       "    <tr>\n",
       "      <th>agility</th>\n",
       "      <td>181265</td>\n",
       "      <td>NaN</td>\n",
       "      <td>NaN</td>\n",
       "      <td>NaN</td>\n",
       "      <td>65.9709</td>\n",
       "      <td>12.9546</td>\n",
       "      <td>11</td>\n",
       "      <td>58</td>\n",
       "      <td>68</td>\n",
       "      <td>75</td>\n",
       "      <td>96</td>\n",
       "    </tr>\n",
       "    <tr>\n",
       "      <th>strength</th>\n",
       "      <td>183142</td>\n",
       "      <td>NaN</td>\n",
       "      <td>NaN</td>\n",
       "      <td>NaN</td>\n",
       "      <td>67.4245</td>\n",
       "      <td>12.0723</td>\n",
       "      <td>10</td>\n",
       "      <td>60</td>\n",
       "      <td>69</td>\n",
       "      <td>76</td>\n",
       "      <td>96</td>\n",
       "    </tr>\n",
       "    <tr>\n",
       "      <th>aggression</th>\n",
       "      <td>183142</td>\n",
       "      <td>NaN</td>\n",
       "      <td>NaN</td>\n",
       "      <td>NaN</td>\n",
       "      <td>60.948</td>\n",
       "      <td>16.0895</td>\n",
       "      <td>6</td>\n",
       "      <td>51</td>\n",
       "      <td>64</td>\n",
       "      <td>73</td>\n",
       "      <td>97</td>\n",
       "    </tr>\n",
       "    <tr>\n",
       "      <th>penalties</th>\n",
       "      <td>183142</td>\n",
       "      <td>NaN</td>\n",
       "      <td>NaN</td>\n",
       "      <td>NaN</td>\n",
       "      <td>55.004</td>\n",
       "      <td>15.5465</td>\n",
       "      <td>2</td>\n",
       "      <td>45</td>\n",
       "      <td>57</td>\n",
       "      <td>67</td>\n",
       "      <td>96</td>\n",
       "    </tr>\n",
       "    <tr>\n",
       "      <th>birth_year</th>\n",
       "      <td>183978</td>\n",
       "      <td>33</td>\n",
       "      <td>1988</td>\n",
       "      <td>15359</td>\n",
       "      <td>NaN</td>\n",
       "      <td>NaN</td>\n",
       "      <td>NaN</td>\n",
       "      <td>NaN</td>\n",
       "      <td>NaN</td>\n",
       "      <td>NaN</td>\n",
       "      <td>NaN</td>\n",
       "    </tr>\n",
       "  </tbody>\n",
       "</table>\n",
       "</div>"
      ],
      "text/plain": [
       "                     count unique     top    freq     mean      std     min  \\\n",
       "id                  183978    NaN     NaN     NaN  91989.5    53110       1   \n",
       "player_name         183978  10848  Danilo     108      NaN      NaN     NaN   \n",
       "height              183978    NaN     NaN     NaN  181.879  6.39482  157.48   \n",
       "weight              183978    NaN     NaN     NaN  168.776  15.0889     117   \n",
       "overall_rating      183142    NaN     NaN     NaN     68.6  7.04114      33   \n",
       "potential           183142    NaN     NaN     NaN  73.4604  6.59227      39   \n",
       "preferred_foot      183142      2   right  138409      NaN      NaN     NaN   \n",
       "ball_control        183142    NaN     NaN     NaN  63.3889  15.1967       5   \n",
       "free_kick_accuracy  183142    NaN     NaN     NaN   49.381  17.8317       1   \n",
       "agility             181265    NaN     NaN     NaN  65.9709  12.9546      11   \n",
       "strength            183142    NaN     NaN     NaN  67.4245  12.0723      10   \n",
       "aggression          183142    NaN     NaN     NaN   60.948  16.0895       6   \n",
       "penalties           183142    NaN     NaN     NaN   55.004  15.5465       2   \n",
       "birth_year          183978     33    1988   15359      NaN      NaN     NaN   \n",
       "\n",
       "                        25%      50%     75%     max  \n",
       "id                  45995.2  91989.5  137984  183978  \n",
       "player_name             NaN      NaN     NaN     NaN  \n",
       "height                177.8   182.88  185.42  208.28  \n",
       "weight                  159      168     179     243  \n",
       "overall_rating           64       69      73      94  \n",
       "potential                69       74      78      97  \n",
       "preferred_foot          NaN      NaN     NaN     NaN  \n",
       "ball_control             58       67      73      97  \n",
       "free_kick_accuracy       36       50      63      97  \n",
       "agility                  58       68      75      96  \n",
       "strength                 60       69      76      96  \n",
       "aggression               51       64      73      97  \n",
       "penalties                45       57      67      96  \n",
       "birth_year              NaN      NaN     NaN     NaN  "
      ]
     },
     "execution_count": 17,
     "metadata": {},
     "output_type": "execute_result"
    }
   ],
   "source": [
    "#checking the statistical summary of the dataset\n",
    "players.describe(include='all').T"
   ]
  },
  {
   "cell_type": "markdown",
   "id": "molecular-flesh",
   "metadata": {},
   "source": [
    "#### OBSERVATIONS\n",
    "1. There are missing values in some features of the dataset\n",
    "2. There are no duplicated rows/observations.\n",
    "3. There are 10848 recorded unique players with player Danilo occuring the most (108 times) in the dataset.\n",
    "4. There are 33 unique birth years. 1998 is the most occuring birth year.\n",
    "5. Players have the right foot as their most preferred foot.\n",
    "6. The average height and weight of the 10848 players is 182m and 169lb\n",
    "7. The minimum and maximum strength found in all the players is 10 and 96.\n",
    "8. The median agression level of a player is 64\n",
    "9. The maximum penalty made by a player is 96\n",
    "10. The least agility level of a player is 11"
   ]
  },
  {
   "cell_type": "markdown",
   "id": "speaking-claim",
   "metadata": {},
   "source": [
    "<a id='eda'></a>\n",
    "## Exploratory Data Analysis on the Player Dataset"
   ]
  },
  {
   "cell_type": "markdown",
   "id": "brave-tennessee",
   "metadata": {},
   "source": [
    "#### QUESTIONS TO BE ANSWERED WITH THE DATASET"
   ]
  },
  {
   "cell_type": "markdown",
   "id": "computational-fusion",
   "metadata": {},
   "source": [
    "> **QUESTION 1. Which players had the most penalties?**"
   ]
  },
  {
   "cell_type": "code",
   "execution_count": 18,
   "id": "broad-farmer",
   "metadata": {},
   "outputs": [
    {
     "data": {
      "text/plain": [
       "player_name\n",
       "Danilo                6358.0\n",
       "Alex                  6140.0\n",
       "Fernando              4764.0\n",
       "Douglas               4687.0\n",
       "Josue                 4671.0\n",
       "Rafinha               4633.0\n",
       "Alessio Cerci         4314.0\n",
       "Carlos Eduardo        4306.0\n",
       "Maicon                4263.0\n",
       "Diego                 4259.0\n",
       "Mario Balotelli       4120.0\n",
       "Kaka                  4093.0\n",
       "Claudio Marchisio     3984.0\n",
       "Paulinho              3977.0\n",
       "Felipe                3974.0\n",
       "David Lopez           3900.0\n",
       "Michael Bradley       3813.0\n",
       "Zdravko Kuzmanovic    3799.0\n",
       "Andrea Pirlo          3791.0\n",
       "Scott Brown           3779.0\n",
       "Name: penalties, dtype: float64"
      ]
     },
     "execution_count": 18,
     "metadata": {},
     "output_type": "execute_result"
    }
   ],
   "source": [
    "# 1. grouping the dataset according to the various player names\n",
    "# 2. After grouping, the penalties column was extracted and the sum function applied\n",
    "# 3. Finally the subseted data was arranged in ascending order with the player with the most penalties at the top\n",
    "# 4. The top 20 players with the most penalties is displayed below\n",
    "top_players = players.groupby('player_name')['penalties'].sum().sort_values(ascending=False).head(20)\n",
    "top_players"
   ]
  },
  {
   "cell_type": "code",
   "execution_count": 19,
   "id": "essential-aquatic",
   "metadata": {},
   "outputs": [
    {
     "data": {
      "image/png": "[encoded data removed]",
      "text/plain": [
       "<Figure size 1080x360 with 1 Axes>"
      ]
     },
     "metadata": {
      "needs_background": "light"
     },
     "output_type": "display_data"
    }
   ],
   "source": [
    "plt.figure(figsize =(15,5)) #setting plot size\n",
    "top_players.plot(kind='bar') #making the plot\n",
    "plt.title('Players vs Penalties') #setting plot title\n",
    "plt.xlabel('Player') # setting a label name for x-axis\n",
    "plt.ylabel('Penalties'); #setting a label name for y-axis"
   ]
  },
  {
   "cell_type": "markdown",
   "id": "satellite-employee",
   "metadata": {},
   "source": [
    "##### INSIGHT\n",
    "- Player Danilo had the highest number of penalties. A total of 6358 penalties.\n",
    "- Second in rank is Alex, followed by Fernando."
   ]
  },
  {
   "cell_type": "markdown",
   "id": "secure-symbol",
   "metadata": {},
   "source": [
    "> **QUESTION 2. Checking the most occuring and least occuring birth year**"
   ]
  },
  {
   "cell_type": "code",
   "execution_count": 20,
   "id": "flying-canadian",
   "metadata": {},
   "outputs": [
    {
     "data": {
      "text/plain": [
       "birth_year\n",
       "1988    15359\n",
       "1987    13846\n",
       "1986    13677\n",
       "1989    13620\n",
       "1990    12622\n",
       "1991    12588\n",
       "1984    11380\n",
       "1985    11309\n",
       "1992    10412\n",
       "1983     9795\n",
       "1993     8390\n",
       "1982     8266\n",
       "1981     7764\n",
       "1994     6666\n",
       "1980     6485\n",
       "1979     4912\n",
       "1995     4055\n",
       "1978     3367\n",
       "1996     2291\n",
       "1977     2183\n",
       "1976     1586\n",
       "1975     1008\n",
       "1997      897\n",
       "1974      597\n",
       "1973      346\n",
       "1972      179\n",
       "1998      135\n",
       "1971      112\n",
       "1970       78\n",
       "1969       35\n",
       "1999       10\n",
       "1968        4\n",
       "1967        4\n",
       "Name: birth_year, dtype: int64"
      ]
     },
     "execution_count": 20,
     "metadata": {},
     "output_type": "execute_result"
    }
   ],
   "source": [
    "# 1. grouping the dataset according to the various birth years\n",
    "# 2. After grouping, a count of all the birth years was performed\n",
    "# 3. Finally the subseted data was arranged in ascending order \n",
    "players.groupby('birth_year')['birth_year'].count().sort_values(ascending=False)"
   ]
  },
  {
   "cell_type": "markdown",
   "id": "attached-titanium",
   "metadata": {},
   "source": [
    "##### INSIGHT\n",
    "- Birth years of players ranges from 1967 - 1999\n",
    "- Most players were born between the years, 1984 -1992\n",
    "- Very few players were born in the years 1967, 1968, 1999, 1969 and 1970"
   ]
  },
  {
   "cell_type": "markdown",
   "id": "velvet-sucking",
   "metadata": {},
   "source": [
    "> **QUESTION 3: What is the relationship between the variables like?**"
   ]
  },
  {
   "cell_type": "code",
   "execution_count": 21,
   "id": "younger-analysis",
   "metadata": {},
   "outputs": [
    {
     "data": {
      "image/png": "[encoded data removed]",
      "text/plain": [
       "<Figure size 1080x504 with 2 Axes>"
      ]
     },
     "metadata": {
      "needs_background": "light"
     },
     "output_type": "display_data"
    }
   ],
   "source": [
    "#setting the figure size\n",
    "plt.figure(figsize = (15,7))\n",
    "#using a heatmap from the seaborn library to view the correlation between variables\n",
    "sns.heatmap(players.corr(),annot=True);"
   ]
  },
  {
   "cell_type": "markdown",
   "id": "opposite-category",
   "metadata": {},
   "source": [
    "> **NOTE:** The heatmap above only shows us the correlation strength between the variables. Correlation does not imply causation.\n",
    ">\n",
    "> Therefore, we can not say with certainty that an change in one variable will significantly or insignificantly affect another variable."
   ]
  },
  {
   "cell_type": "markdown",
   "id": "considerable-bearing",
   "metadata": {},
   "source": [
    "##### INSIGHTS\n",
    "1. There is a strong positive correlation between height and weight (76% relationship)\n",
    "2. There is a strong positive correlation between potential and overall rating (77% relationship)\n",
    "3. Agility and ball control have a positive correlation of 0.72\n",
    "4. Ball control seems to be the variable that has a strong influence on penalty (not with certainty)\n",
    "5. Agility is decreased as the height and weight of a player increases ( not with certainty)\n",
    "6. Agression of a player is independent of all the variables displayed above\n",
    "7. Strength of a player is fairly influenced by the height and weight of the player."
   ]
  },
  {
   "cell_type": "markdown",
   "id": "applied-workshop",
   "metadata": {},
   "source": [
    "> **QUESTION 4: Top 5 players with the highest agression**"
   ]
  },
  {
   "cell_type": "code",
   "execution_count": 22,
   "id": "historic-halifax",
   "metadata": {},
   "outputs": [
    {
     "data": {
      "text/plain": [
       "player_name\n",
       "Danilo      7511.0\n",
       "Maicon      6052.0\n",
       "Alex        5962.0\n",
       "Douglas     5871.0\n",
       "Fernando    5850.0\n",
       "Name: aggression, dtype: float64"
      ]
     },
     "execution_count": 22,
     "metadata": {},
     "output_type": "execute_result"
    }
   ],
   "source": [
    "# 1. grouping the dataset according to the various player names\n",
    "# 2. After grouping, the aggression column was extracted and the sum function applied\n",
    "# 3. Finally the subseted data was arranged in ascending order \n",
    "# 4. The top 5 players is displayed below\n",
    "top_players1 = players.groupby('player_name')['aggression'].sum().sort_values(ascending=False).head(5)\n",
    "top_players1"
   ]
  },
  {
   "cell_type": "code",
   "execution_count": 23,
   "id": "elementary-shelf",
   "metadata": {},
   "outputs": [
    {
     "data": {
      "image/png": "[encoded data removed]",
      "text/plain": [
       "<Figure size 1080x360 with 1 Axes>"
      ]
     },
     "metadata": {
      "needs_background": "light"
     },
     "output_type": "display_data"
    }
   ],
   "source": [
    "plt.figure(figsize =(15,5)) #setting plot size\n",
    "top_players1.plot(kind='bar') #making the plot\n",
    "plt.title('Players vs Aggression') #setting plot title\n",
    "plt.xlabel('Player') #setting label name for x-axis\n",
    "plt.ylabel('Aggression'); # setting label name for y-axis"
   ]
  },
  {
   "cell_type": "markdown",
   "id": "tracked-exclusive",
   "metadata": {},
   "source": [
    "##### INSIGHT\n",
    "1. Danilo had the highest aggression. He also had the highest number of penalties.\n",
    "2. The top 5 agressive players also made the list of top 20 players with highest penalties.\n",
    "3. There could be a possible link between aggression and penalties."
   ]
  },
  {
   "cell_type": "markdown",
   "id": "casual-polls",
   "metadata": {},
   "source": [
    "> **QUESTION 5. Players with the highest strength**"
   ]
  },
  {
   "cell_type": "code",
   "execution_count": 24,
   "id": "dutch-briefs",
   "metadata": {},
   "outputs": [
    {
     "data": {
      "text/plain": [
       "96.0"
      ]
     },
     "execution_count": 24,
     "metadata": {},
     "output_type": "execute_result"
    }
   ],
   "source": [
    "#checking the maximum strength level in the dataset\n",
    "players.strength.max()"
   ]
  },
  {
   "cell_type": "code",
   "execution_count": 25,
   "id": "novel-analysis",
   "metadata": {},
   "outputs": [
    {
     "data": {
      "text/plain": [
       "['Christopher Samba',\n",
       " 'Daniel van Buyten',\n",
       " 'Didier Drogba',\n",
       " 'Herold Goulon',\n",
       " 'John Carew']"
      ]
     },
     "execution_count": 25,
     "metadata": {},
     "output_type": "execute_result"
    }
   ],
   "source": [
    "# creating a subset dataframe containing only the players with the maximum strength\n",
    "top_players2 = players[ players.strength == players.strength.max() ]\n",
    "\n",
    "#obtaining the names of all the players in the new subseted data\n",
    "top_players2['player_name'].unique().tolist()"
   ]
  },
  {
   "cell_type": "markdown",
   "id": "noble-western",
   "metadata": {},
   "source": [
    "##### INSIGHTS\n",
    "1. John Carew, Herold Goulon, Didier Drogba, Daniel van Buyten, Christopher Samba are the players with the highest strength of 96"
   ]
  },
  {
   "cell_type": "markdown",
   "id": "steady-competition",
   "metadata": {},
   "source": [
    "> **QUESTION 6: WHICH PLAYERS HAD THE HIGHEST RATING**"
   ]
  },
  {
   "cell_type": "code",
   "execution_count": 26,
   "id": "annoying-conservation",
   "metadata": {},
   "outputs": [
    {
     "data": {
      "text/plain": [
       "player_name\n",
       "Danilo              7894.0\n",
       "Alex                7118.0\n",
       "Douglas             6606.0\n",
       "Felipe              6452.0\n",
       "Ricardo             5883.0\n",
       "                     ...  \n",
       "Steven De Pauw       100.0\n",
       "David Hopkirk         98.0\n",
       "Sven De Volder        98.0\n",
       "Benjamin Fischer      92.0\n",
       "Liam Hughes           92.0\n",
       "Name: overall_rating, Length: 10848, dtype: float64"
      ]
     },
     "execution_count": 26,
     "metadata": {},
     "output_type": "execute_result"
    }
   ],
   "source": [
    "players.groupby('player_name')['overall_rating'].sum().sort_values(ascending=False)"
   ]
  },
  {
   "cell_type": "markdown",
   "id": "going-floor",
   "metadata": {},
   "source": [
    "##### INSIGHTS\n",
    "- Danilo has once again topped the chart. With an overall rating of 7894"
   ]
  },
  {
   "cell_type": "markdown",
   "id": "cooked-concrete",
   "metadata": {},
   "source": []
  },
  {
   "cell_type": "markdown",
   "id": "unauthorized-finder",
   "metadata": {},
   "source": [
    "### GENERAL PROPERTIES AND DATA CLEANING ON THE MATCH DATASET"
   ]
  },
  {
   "cell_type": "code",
   "execution_count": 27,
   "id": "distinguished-banking",
   "metadata": {},
   "outputs": [
    {
     "data": {
      "text/html": [
       "<div>\n",
       "<style scoped>\n",
       "    .dataframe tbody tr th:only-of-type {\n",
       "        vertical-align: middle;\n",
       "    }\n",
       "\n",
       "    .dataframe tbody tr th {\n",
       "        vertical-align: top;\n",
       "    }\n",
       "\n",
       "    .dataframe thead th {\n",
       "        text-align: right;\n",
       "    }\n",
       "</style>\n",
       "<table border=\"1\" class=\"dataframe\">\n",
       "  <thead>\n",
       "    <tr style=\"text-align: right;\">\n",
       "      <th></th>\n",
       "      <th>id</th>\n",
       "      <th>country_name</th>\n",
       "      <th>league_name</th>\n",
       "      <th>season</th>\n",
       "      <th>date</th>\n",
       "      <th>home_team</th>\n",
       "      <th>away_team</th>\n",
       "      <th>home_team_goal</th>\n",
       "      <th>away_team_goal</th>\n",
       "    </tr>\n",
       "  </thead>\n",
       "  <tbody>\n",
       "    <tr>\n",
       "      <th>0</th>\n",
       "      <td>1</td>\n",
       "      <td>Belgium</td>\n",
       "      <td>Belgium Jupiler League</td>\n",
       "      <td>2008/2009</td>\n",
       "      <td>2008-08-17 00:00:00</td>\n",
       "      <td>KRC Genk</td>\n",
       "      <td>Beerschot AC</td>\n",
       "      <td>1</td>\n",
       "      <td>1</td>\n",
       "    </tr>\n",
       "    <tr>\n",
       "      <th>1</th>\n",
       "      <td>2</td>\n",
       "      <td>Belgium</td>\n",
       "      <td>Belgium Jupiler League</td>\n",
       "      <td>2008/2009</td>\n",
       "      <td>2008-08-16 00:00:00</td>\n",
       "      <td>SV Zulte-Waregem</td>\n",
       "      <td>Sporting Lokeren</td>\n",
       "      <td>0</td>\n",
       "      <td>0</td>\n",
       "    </tr>\n",
       "    <tr>\n",
       "      <th>2</th>\n",
       "      <td>3</td>\n",
       "      <td>Belgium</td>\n",
       "      <td>Belgium Jupiler League</td>\n",
       "      <td>2008/2009</td>\n",
       "      <td>2008-08-16 00:00:00</td>\n",
       "      <td>KSV Cercle Brugge</td>\n",
       "      <td>RSC Anderlecht</td>\n",
       "      <td>0</td>\n",
       "      <td>3</td>\n",
       "    </tr>\n",
       "    <tr>\n",
       "      <th>3</th>\n",
       "      <td>4</td>\n",
       "      <td>Belgium</td>\n",
       "      <td>Belgium Jupiler League</td>\n",
       "      <td>2008/2009</td>\n",
       "      <td>2008-08-17 00:00:00</td>\n",
       "      <td>KAA Gent</td>\n",
       "      <td>RAEC Mons</td>\n",
       "      <td>5</td>\n",
       "      <td>0</td>\n",
       "    </tr>\n",
       "    <tr>\n",
       "      <th>4</th>\n",
       "      <td>5</td>\n",
       "      <td>Belgium</td>\n",
       "      <td>Belgium Jupiler League</td>\n",
       "      <td>2008/2009</td>\n",
       "      <td>2008-08-16 00:00:00</td>\n",
       "      <td>FCV Dender EH</td>\n",
       "      <td>Standard de Liège</td>\n",
       "      <td>1</td>\n",
       "      <td>3</td>\n",
       "    </tr>\n",
       "  </tbody>\n",
       "</table>\n",
       "</div>"
      ],
      "text/plain": [
       "   id country_name             league_name     season                 date  \\\n",
       "0   1      Belgium  Belgium Jupiler League  2008/2009  2008-08-17 00:00:00   \n",
       "1   2      Belgium  Belgium Jupiler League  2008/2009  2008-08-16 00:00:00   \n",
       "2   3      Belgium  Belgium Jupiler League  2008/2009  2008-08-16 00:00:00   \n",
       "3   4      Belgium  Belgium Jupiler League  2008/2009  2008-08-17 00:00:00   \n",
       "4   5      Belgium  Belgium Jupiler League  2008/2009  2008-08-16 00:00:00   \n",
       "\n",
       "           home_team          away_team  home_team_goal  away_team_goal  \n",
       "0           KRC Genk       Beerschot AC               1               1  \n",
       "1   SV Zulte-Waregem   Sporting Lokeren               0               0  \n",
       "2  KSV Cercle Brugge     RSC Anderlecht               0               3  \n",
       "3           KAA Gent          RAEC Mons               5               0  \n",
       "4      FCV Dender EH  Standard de Liège               1               3  "
      ]
     },
     "execution_count": 27,
     "metadata": {},
     "output_type": "execute_result"
    }
   ],
   "source": [
    "#to view the first 5 rows of the data\n",
    "matches.head(5)"
   ]
  },
  {
   "cell_type": "markdown",
   "id": "pediatric-telephone",
   "metadata": {},
   "source": [
    "> To make this dataset a little cleaner, the date-time stamp in the date column was splitted and the match year and match month was extracted and kept for further analysis. \n",
    ">\n",
    ">The date column was however dropped"
   ]
  },
  {
   "cell_type": "code",
   "execution_count": 28,
   "id": "common-provincial",
   "metadata": {},
   "outputs": [
    {
     "data": {
      "text/html": [
       "<div>\n",
       "<style scoped>\n",
       "    .dataframe tbody tr th:only-of-type {\n",
       "        vertical-align: middle;\n",
       "    }\n",
       "\n",
       "    .dataframe tbody tr th {\n",
       "        vertical-align: top;\n",
       "    }\n",
       "\n",
       "    .dataframe thead th {\n",
       "        text-align: right;\n",
       "    }\n",
       "</style>\n",
       "<table border=\"1\" class=\"dataframe\">\n",
       "  <thead>\n",
       "    <tr style=\"text-align: right;\">\n",
       "      <th></th>\n",
       "      <th>id</th>\n",
       "      <th>country_name</th>\n",
       "      <th>league_name</th>\n",
       "      <th>season</th>\n",
       "      <th>home_team</th>\n",
       "      <th>away_team</th>\n",
       "      <th>home_team_goal</th>\n",
       "      <th>away_team_goal</th>\n",
       "      <th>match_year</th>\n",
       "      <th>match_month</th>\n",
       "    </tr>\n",
       "  </thead>\n",
       "  <tbody>\n",
       "    <tr>\n",
       "      <th>0</th>\n",
       "      <td>1</td>\n",
       "      <td>Belgium</td>\n",
       "      <td>Belgium Jupiler League</td>\n",
       "      <td>2008/2009</td>\n",
       "      <td>KRC Genk</td>\n",
       "      <td>Beerschot AC</td>\n",
       "      <td>1</td>\n",
       "      <td>1</td>\n",
       "      <td>2008</td>\n",
       "      <td>8</td>\n",
       "    </tr>\n",
       "    <tr>\n",
       "      <th>1</th>\n",
       "      <td>2</td>\n",
       "      <td>Belgium</td>\n",
       "      <td>Belgium Jupiler League</td>\n",
       "      <td>2008/2009</td>\n",
       "      <td>SV Zulte-Waregem</td>\n",
       "      <td>Sporting Lokeren</td>\n",
       "      <td>0</td>\n",
       "      <td>0</td>\n",
       "      <td>2008</td>\n",
       "      <td>8</td>\n",
       "    </tr>\n",
       "    <tr>\n",
       "      <th>2</th>\n",
       "      <td>3</td>\n",
       "      <td>Belgium</td>\n",
       "      <td>Belgium Jupiler League</td>\n",
       "      <td>2008/2009</td>\n",
       "      <td>KSV Cercle Brugge</td>\n",
       "      <td>RSC Anderlecht</td>\n",
       "      <td>0</td>\n",
       "      <td>3</td>\n",
       "      <td>2008</td>\n",
       "      <td>8</td>\n",
       "    </tr>\n",
       "    <tr>\n",
       "      <th>3</th>\n",
       "      <td>4</td>\n",
       "      <td>Belgium</td>\n",
       "      <td>Belgium Jupiler League</td>\n",
       "      <td>2008/2009</td>\n",
       "      <td>KAA Gent</td>\n",
       "      <td>RAEC Mons</td>\n",
       "      <td>5</td>\n",
       "      <td>0</td>\n",
       "      <td>2008</td>\n",
       "      <td>8</td>\n",
       "    </tr>\n",
       "    <tr>\n",
       "      <th>4</th>\n",
       "      <td>5</td>\n",
       "      <td>Belgium</td>\n",
       "      <td>Belgium Jupiler League</td>\n",
       "      <td>2008/2009</td>\n",
       "      <td>FCV Dender EH</td>\n",
       "      <td>Standard de Liège</td>\n",
       "      <td>1</td>\n",
       "      <td>3</td>\n",
       "      <td>2008</td>\n",
       "      <td>8</td>\n",
       "    </tr>\n",
       "  </tbody>\n",
       "</table>\n",
       "</div>"
      ],
      "text/plain": [
       "   id country_name             league_name     season          home_team  \\\n",
       "0   1      Belgium  Belgium Jupiler League  2008/2009           KRC Genk   \n",
       "1   2      Belgium  Belgium Jupiler League  2008/2009   SV Zulte-Waregem   \n",
       "2   3      Belgium  Belgium Jupiler League  2008/2009  KSV Cercle Brugge   \n",
       "3   4      Belgium  Belgium Jupiler League  2008/2009           KAA Gent   \n",
       "4   5      Belgium  Belgium Jupiler League  2008/2009      FCV Dender EH   \n",
       "\n",
       "           away_team  home_team_goal  away_team_goal match_year match_month  \n",
       "0       Beerschot AC               1               1       2008           8  \n",
       "1   Sporting Lokeren               0               0       2008           8  \n",
       "2     RSC Anderlecht               0               3       2008           8  \n",
       "3          RAEC Mons               5               0       2008           8  \n",
       "4  Standard de Liège               1               3       2008           8  "
      ]
     },
     "execution_count": 28,
     "metadata": {},
     "output_type": "execute_result"
    }
   ],
   "source": [
    "#Obtaining the datestamp from the date column (recall the date column has both date and time stamp)\n",
    "matches['date']=pd.to_datetime(matches['date']).dt.date\n",
    "\n",
    "#Extracting only the year and month from the datestamp and converting the data type to categorical for analysis\n",
    "matches['match_year'] = pd.DatetimeIndex(matches['date']).year.astype('category')\n",
    "matches['match_month'] = pd.DatetimeIndex(matches['date']).month.astype('category')\n",
    "\n",
    "#dropping the date column\n",
    "matches.drop('date', inplace =True, axis=1)\n",
    "\n",
    "#viewing the final result\n",
    "matches.head(5)"
   ]
  },
  {
   "cell_type": "markdown",
   "id": "technical-belfast",
   "metadata": {},
   "source": [
    "> checking to see if there are teams that appear both in the home team and away team at the same time"
   ]
  },
  {
   "cell_type": "code",
   "execution_count": 29,
   "id": "athletic-foster",
   "metadata": {},
   "outputs": [
    {
     "data": {
      "text/html": [
       "<div>\n",
       "<style scoped>\n",
       "    .dataframe tbody tr th:only-of-type {\n",
       "        vertical-align: middle;\n",
       "    }\n",
       "\n",
       "    .dataframe tbody tr th {\n",
       "        vertical-align: top;\n",
       "    }\n",
       "\n",
       "    .dataframe thead th {\n",
       "        text-align: right;\n",
       "    }\n",
       "</style>\n",
       "<table border=\"1\" class=\"dataframe\">\n",
       "  <thead>\n",
       "    <tr style=\"text-align: right;\">\n",
       "      <th></th>\n",
       "      <th>id</th>\n",
       "      <th>country_name</th>\n",
       "      <th>league_name</th>\n",
       "      <th>season</th>\n",
       "      <th>home_team</th>\n",
       "      <th>away_team</th>\n",
       "      <th>home_team_goal</th>\n",
       "      <th>away_team_goal</th>\n",
       "      <th>match_year</th>\n",
       "      <th>match_month</th>\n",
       "    </tr>\n",
       "  </thead>\n",
       "  <tbody>\n",
       "    <tr>\n",
       "      <th>15849</th>\n",
       "      <td>15850</td>\n",
       "      <td>Poland</td>\n",
       "      <td>Poland Ekstraklasa</td>\n",
       "      <td>2008/2009</td>\n",
       "      <td>Polonia Bytom</td>\n",
       "      <td>Polonia Bytom</td>\n",
       "      <td>2</td>\n",
       "      <td>0</td>\n",
       "      <td>2009</td>\n",
       "      <td>4</td>\n",
       "    </tr>\n",
       "    <tr>\n",
       "      <th>15944</th>\n",
       "      <td>15945</td>\n",
       "      <td>Poland</td>\n",
       "      <td>Poland Ekstraklasa</td>\n",
       "      <td>2008/2009</td>\n",
       "      <td>Polonia Bytom</td>\n",
       "      <td>Polonia Bytom</td>\n",
       "      <td>2</td>\n",
       "      <td>0</td>\n",
       "      <td>2008</td>\n",
       "      <td>9</td>\n",
       "    </tr>\n",
       "    <tr>\n",
       "      <th>16230</th>\n",
       "      <td>16231</td>\n",
       "      <td>Poland</td>\n",
       "      <td>Poland Ekstraklasa</td>\n",
       "      <td>2010/2011</td>\n",
       "      <td>Polonia Bytom</td>\n",
       "      <td>Polonia Bytom</td>\n",
       "      <td>1</td>\n",
       "      <td>1</td>\n",
       "      <td>2010</td>\n",
       "      <td>11</td>\n",
       "    </tr>\n",
       "    <tr>\n",
       "      <th>16358</th>\n",
       "      <td>16359</td>\n",
       "      <td>Poland</td>\n",
       "      <td>Poland Ekstraklasa</td>\n",
       "      <td>2010/2011</td>\n",
       "      <td>Polonia Bytom</td>\n",
       "      <td>Polonia Bytom</td>\n",
       "      <td>1</td>\n",
       "      <td>2</td>\n",
       "      <td>2011</td>\n",
       "      <td>5</td>\n",
       "    </tr>\n",
       "    <tr>\n",
       "      <th>16454</th>\n",
       "      <td>16455</td>\n",
       "      <td>Poland</td>\n",
       "      <td>Poland Ekstraklasa</td>\n",
       "      <td>2011/2012</td>\n",
       "      <td>Widzew Łódź</td>\n",
       "      <td>Widzew Łódź</td>\n",
       "      <td>0</td>\n",
       "      <td>1</td>\n",
       "      <td>2011</td>\n",
       "      <td>10</td>\n",
       "    </tr>\n",
       "    <tr>\n",
       "      <th>16583</th>\n",
       "      <td>16584</td>\n",
       "      <td>Poland</td>\n",
       "      <td>Poland Ekstraklasa</td>\n",
       "      <td>2011/2012</td>\n",
       "      <td>Widzew Łódź</td>\n",
       "      <td>Widzew Łódź</td>\n",
       "      <td>1</td>\n",
       "      <td>1</td>\n",
       "      <td>2012</td>\n",
       "      <td>4</td>\n",
       "    </tr>\n",
       "  </tbody>\n",
       "</table>\n",
       "</div>"
      ],
      "text/plain": [
       "          id country_name         league_name     season      home_team  \\\n",
       "15849  15850       Poland  Poland Ekstraklasa  2008/2009  Polonia Bytom   \n",
       "15944  15945       Poland  Poland Ekstraklasa  2008/2009  Polonia Bytom   \n",
       "16230  16231       Poland  Poland Ekstraklasa  2010/2011  Polonia Bytom   \n",
       "16358  16359       Poland  Poland Ekstraklasa  2010/2011  Polonia Bytom   \n",
       "16454  16455       Poland  Poland Ekstraklasa  2011/2012    Widzew Łódź   \n",
       "16583  16584       Poland  Poland Ekstraklasa  2011/2012    Widzew Łódź   \n",
       "\n",
       "           away_team  home_team_goal  away_team_goal match_year match_month  \n",
       "15849  Polonia Bytom               2               0       2009           4  \n",
       "15944  Polonia Bytom               2               0       2008           9  \n",
       "16230  Polonia Bytom               1               1       2010          11  \n",
       "16358  Polonia Bytom               1               2       2011           5  \n",
       "16454    Widzew Łódź               0               1       2011          10  \n",
       "16583    Widzew Łódź               1               1       2012           4  "
      ]
     },
     "execution_count": 29,
     "metadata": {},
     "output_type": "execute_result"
    }
   ],
   "source": [
    "# checking to see if there are teams that appear both in the home team and away team at the same time\n",
    "error_match = matches[matches.away_team == matches.home_team]\n",
    "error_match"
   ]
  },
  {
   "cell_type": "code",
   "execution_count": 30,
   "id": "floppy-recovery",
   "metadata": {},
   "outputs": [],
   "source": [
    "#The above is probably an error as we cant have a team playing against itself in a match hence those columns will be dropped\n",
    "matches.drop([15849,15944,16230,16358,16454,16583],inplace=True,axis=0)"
   ]
  },
  {
   "cell_type": "code",
   "execution_count": 31,
   "id": "organized-trustee",
   "metadata": {},
   "outputs": [
    {
     "name": "stdout",
     "output_type": "stream",
     "text": [
      "<class 'pandas.core.frame.DataFrame'>\n",
      "Int64Index: 25973 entries, 0 to 25978\n",
      "Data columns (total 10 columns):\n",
      " #   Column          Non-Null Count  Dtype   \n",
      "---  ------          --------------  -----   \n",
      " 0   id              25973 non-null  int64   \n",
      " 1   country_name    25973 non-null  object  \n",
      " 2   league_name     25973 non-null  object  \n",
      " 3   season          25973 non-null  object  \n",
      " 4   home_team       25973 non-null  object  \n",
      " 5   away_team       25973 non-null  object  \n",
      " 6   home_team_goal  25973 non-null  int64   \n",
      " 7   away_team_goal  25973 non-null  int64   \n",
      " 8   match_year      25973 non-null  category\n",
      " 9   match_month     25973 non-null  category\n",
      "dtypes: category(2), int64(3), object(5)\n",
      "memory usage: 1.8+ MB\n"
     ]
    }
   ],
   "source": [
    "#checking the general information of the dataset\n",
    "matches.info()"
   ]
  },
  {
   "cell_type": "markdown",
   "id": "compliant-kelly",
   "metadata": {},
   "source": [
    ">  There are 3 data types in this dataset and no missing values"
   ]
  },
  {
   "cell_type": "code",
   "execution_count": 32,
   "id": "adjacent-nashville",
   "metadata": {},
   "outputs": [
    {
     "data": {
      "text/plain": [
       "id                0\n",
       "country_name      0\n",
       "league_name       0\n",
       "season            0\n",
       "home_team         0\n",
       "away_team         0\n",
       "home_team_goal    0\n",
       "away_team_goal    0\n",
       "match_year        0\n",
       "match_month       0\n",
       "dtype: int64"
      ]
     },
     "execution_count": 32,
     "metadata": {},
     "output_type": "execute_result"
    }
   ],
   "source": [
    "#checking for missing values\n",
    "matches.isnull().sum()"
   ]
  },
  {
   "cell_type": "markdown",
   "id": "desirable-exercise",
   "metadata": {},
   "source": [
    "> There are no missing values"
   ]
  },
  {
   "cell_type": "code",
   "execution_count": 33,
   "id": "dress-reading",
   "metadata": {},
   "outputs": [
    {
     "data": {
      "text/plain": [
       "False"
      ]
     },
     "execution_count": 33,
     "metadata": {},
     "output_type": "execute_result"
    }
   ],
   "source": [
    "#checking for duplicated rows\n",
    "matches.duplicated().all()"
   ]
  },
  {
   "cell_type": "markdown",
   "id": "addressed-whole",
   "metadata": {},
   "source": [
    "> There are no duplicated rows"
   ]
  },
  {
   "cell_type": "code",
   "execution_count": 34,
   "id": "external-thought",
   "metadata": {},
   "outputs": [
    {
     "data": {
      "text/html": [
       "<div>\n",
       "<style scoped>\n",
       "    .dataframe tbody tr th:only-of-type {\n",
       "        vertical-align: middle;\n",
       "    }\n",
       "\n",
       "    .dataframe tbody tr th {\n",
       "        vertical-align: top;\n",
       "    }\n",
       "\n",
       "    .dataframe thead th {\n",
       "        text-align: right;\n",
       "    }\n",
       "</style>\n",
       "<table border=\"1\" class=\"dataframe\">\n",
       "  <thead>\n",
       "    <tr style=\"text-align: right;\">\n",
       "      <th></th>\n",
       "      <th>count</th>\n",
       "      <th>unique</th>\n",
       "      <th>top</th>\n",
       "      <th>freq</th>\n",
       "      <th>mean</th>\n",
       "      <th>std</th>\n",
       "      <th>min</th>\n",
       "      <th>25%</th>\n",
       "      <th>50%</th>\n",
       "      <th>75%</th>\n",
       "      <th>max</th>\n",
       "    </tr>\n",
       "  </thead>\n",
       "  <tbody>\n",
       "    <tr>\n",
       "      <th>id</th>\n",
       "      <td>25973</td>\n",
       "      <td>NaN</td>\n",
       "      <td>NaN</td>\n",
       "      <td>NaN</td>\n",
       "      <td>12989.2</td>\n",
       "      <td>7500.34</td>\n",
       "      <td>1</td>\n",
       "      <td>6494</td>\n",
       "      <td>12987</td>\n",
       "      <td>19486</td>\n",
       "      <td>25979</td>\n",
       "    </tr>\n",
       "    <tr>\n",
       "      <th>country_name</th>\n",
       "      <td>25973</td>\n",
       "      <td>11</td>\n",
       "      <td>Spain</td>\n",
       "      <td>3040</td>\n",
       "      <td>NaN</td>\n",
       "      <td>NaN</td>\n",
       "      <td>NaN</td>\n",
       "      <td>NaN</td>\n",
       "      <td>NaN</td>\n",
       "      <td>NaN</td>\n",
       "      <td>NaN</td>\n",
       "    </tr>\n",
       "    <tr>\n",
       "      <th>league_name</th>\n",
       "      <td>25973</td>\n",
       "      <td>11</td>\n",
       "      <td>England Premier League</td>\n",
       "      <td>3040</td>\n",
       "      <td>NaN</td>\n",
       "      <td>NaN</td>\n",
       "      <td>NaN</td>\n",
       "      <td>NaN</td>\n",
       "      <td>NaN</td>\n",
       "      <td>NaN</td>\n",
       "      <td>NaN</td>\n",
       "    </tr>\n",
       "    <tr>\n",
       "      <th>season</th>\n",
       "      <td>25973</td>\n",
       "      <td>8</td>\n",
       "      <td>2015/2016</td>\n",
       "      <td>3326</td>\n",
       "      <td>NaN</td>\n",
       "      <td>NaN</td>\n",
       "      <td>NaN</td>\n",
       "      <td>NaN</td>\n",
       "      <td>NaN</td>\n",
       "      <td>NaN</td>\n",
       "      <td>NaN</td>\n",
       "    </tr>\n",
       "    <tr>\n",
       "      <th>home_team</th>\n",
       "      <td>25973</td>\n",
       "      <td>296</td>\n",
       "      <td>FC Lorient</td>\n",
       "      <td>152</td>\n",
       "      <td>NaN</td>\n",
       "      <td>NaN</td>\n",
       "      <td>NaN</td>\n",
       "      <td>NaN</td>\n",
       "      <td>NaN</td>\n",
       "      <td>NaN</td>\n",
       "      <td>NaN</td>\n",
       "    </tr>\n",
       "    <tr>\n",
       "      <th>away_team</th>\n",
       "      <td>25973</td>\n",
       "      <td>296</td>\n",
       "      <td>Motherwell</td>\n",
       "      <td>153</td>\n",
       "      <td>NaN</td>\n",
       "      <td>NaN</td>\n",
       "      <td>NaN</td>\n",
       "      <td>NaN</td>\n",
       "      <td>NaN</td>\n",
       "      <td>NaN</td>\n",
       "      <td>NaN</td>\n",
       "    </tr>\n",
       "    <tr>\n",
       "      <th>home_team_goal</th>\n",
       "      <td>25973</td>\n",
       "      <td>NaN</td>\n",
       "      <td>NaN</td>\n",
       "      <td>NaN</td>\n",
       "      <td>1.54468</td>\n",
       "      <td>1.29725</td>\n",
       "      <td>0</td>\n",
       "      <td>1</td>\n",
       "      <td>1</td>\n",
       "      <td>2</td>\n",
       "      <td>10</td>\n",
       "    </tr>\n",
       "    <tr>\n",
       "      <th>away_team_goal</th>\n",
       "      <td>25973</td>\n",
       "      <td>NaN</td>\n",
       "      <td>NaN</td>\n",
       "      <td>NaN</td>\n",
       "      <td>1.16101</td>\n",
       "      <td>1.14218</td>\n",
       "      <td>0</td>\n",
       "      <td>0</td>\n",
       "      <td>1</td>\n",
       "      <td>2</td>\n",
       "      <td>9</td>\n",
       "    </tr>\n",
       "    <tr>\n",
       "      <th>match_year</th>\n",
       "      <td>25973</td>\n",
       "      <td>9</td>\n",
       "      <td>2015</td>\n",
       "      <td>3374</td>\n",
       "      <td>NaN</td>\n",
       "      <td>NaN</td>\n",
       "      <td>NaN</td>\n",
       "      <td>NaN</td>\n",
       "      <td>NaN</td>\n",
       "      <td>NaN</td>\n",
       "      <td>NaN</td>\n",
       "    </tr>\n",
       "    <tr>\n",
       "      <th>match_month</th>\n",
       "      <td>25973</td>\n",
       "      <td>12</td>\n",
       "      <td>4</td>\n",
       "      <td>2967</td>\n",
       "      <td>NaN</td>\n",
       "      <td>NaN</td>\n",
       "      <td>NaN</td>\n",
       "      <td>NaN</td>\n",
       "      <td>NaN</td>\n",
       "      <td>NaN</td>\n",
       "      <td>NaN</td>\n",
       "    </tr>\n",
       "  </tbody>\n",
       "</table>\n",
       "</div>"
      ],
      "text/plain": [
       "                count unique                     top  freq     mean      std  \\\n",
       "id              25973    NaN                     NaN   NaN  12989.2  7500.34   \n",
       "country_name    25973     11                   Spain  3040      NaN      NaN   \n",
       "league_name     25973     11  England Premier League  3040      NaN      NaN   \n",
       "season          25973      8               2015/2016  3326      NaN      NaN   \n",
       "home_team       25973    296              FC Lorient   152      NaN      NaN   \n",
       "away_team       25973    296              Motherwell   153      NaN      NaN   \n",
       "home_team_goal  25973    NaN                     NaN   NaN  1.54468  1.29725   \n",
       "away_team_goal  25973    NaN                     NaN   NaN  1.16101  1.14218   \n",
       "match_year      25973      9                    2015  3374      NaN      NaN   \n",
       "match_month     25973     12                       4  2967      NaN      NaN   \n",
       "\n",
       "                min   25%    50%    75%    max  \n",
       "id                1  6494  12987  19486  25979  \n",
       "country_name    NaN   NaN    NaN    NaN    NaN  \n",
       "league_name     NaN   NaN    NaN    NaN    NaN  \n",
       "season          NaN   NaN    NaN    NaN    NaN  \n",
       "home_team       NaN   NaN    NaN    NaN    NaN  \n",
       "away_team       NaN   NaN    NaN    NaN    NaN  \n",
       "home_team_goal    0     1      1      2     10  \n",
       "away_team_goal    0     0      1      2      9  \n",
       "match_year      NaN   NaN    NaN    NaN    NaN  \n",
       "match_month     NaN   NaN    NaN    NaN    NaN  "
      ]
     },
     "execution_count": 34,
     "metadata": {},
     "output_type": "execute_result"
    }
   ],
   "source": [
    "#checking the statistical summary of the dataset\n",
    "matches.describe(include='all').T"
   ]
  },
  {
   "cell_type": "markdown",
   "id": "hollow-ballet",
   "metadata": {},
   "source": [
    "##### OBSERVATIONS\n",
    "1. There are neither any missing values nor duplicated rows\n",
    "2. There are a total of 11 recorded countries that participated in the match with England as the top participant.\n",
    "3. There are also 11 different leagues with Spain LIGA/BBVA occuring the most.\n",
    "4. There are 8 different seasons recorded in the dataset with 2015/2016 season having the most matches.\n",
    "5. A total of 296 teams (including the home and away team) participated in the match.\n",
    "6. The highest goal scored by a home team is 10\n",
    "7. The highest goal scored by an away team is 9\n",
    "8. There are 9 unique match years with 2015 having the highest number of matches.\n",
    "9. The month of April had the highest number of matches played through out the years."
   ]
  },
  {
   "cell_type": "markdown",
   "id": "level-placement",
   "metadata": {},
   "source": [
    "<a id='eda1'></a>\n",
    "### EXPLORATORY DATA ANALYSIS ON THE MATCH DATA SET"
   ]
  },
  {
   "cell_type": "markdown",
   "id": "regional-liquid",
   "metadata": {},
   "source": [
    "#### QUESTIONS TO BE ANSWERED WITH THE DATASET"
   ]
  },
  {
   "cell_type": "markdown",
   "id": "charged-monthly",
   "metadata": {},
   "source": [
    "> **QUESTION 1: WHAT IS THE YEAR RANGE OF THE MATCHES**"
   ]
  },
  {
   "cell_type": "code",
   "execution_count": 35,
   "id": "transsexual-tradition",
   "metadata": {},
   "outputs": [
    {
     "data": {
      "text/plain": [
       "[2008, 2009, 2010, 2011, 2012, 2013, 2014, 2015, 2016]"
      ]
     },
     "execution_count": 35,
     "metadata": {},
     "output_type": "execute_result"
    }
   ],
   "source": [
    "# returns all the years contained in the dataset\n",
    "matches.match_year.unique().tolist()"
   ]
  },
  {
   "cell_type": "markdown",
   "id": "spare-retrieval",
   "metadata": {},
   "source": [
    "##### INSIGHT\n",
    "- The dataset constitute matches played between the years 2008 to 2016"
   ]
  },
  {
   "cell_type": "markdown",
   "id": "pleasant-ordinary",
   "metadata": {},
   "source": [
    "> **QUESTION 2: WHAT YEAR HAD THE MOST MATCHES**"
   ]
  },
  {
   "cell_type": "code",
   "execution_count": 36,
   "id": "personalized-musician",
   "metadata": {},
   "outputs": [
    {
     "data": {
      "text/plain": [
       "match_year\n",
       "2015    3374\n",
       "2009    3305\n",
       "2012    3268\n",
       "2011    3253\n",
       "2010    3249\n",
       "2014    3166\n",
       "2013    3116\n",
       "2016    1630\n",
       "2008    1612\n",
       "Name: league_name, dtype: int64"
      ]
     },
     "execution_count": 36,
     "metadata": {},
     "output_type": "execute_result"
    }
   ],
   "source": [
    "#returns all the years with the number of matches played in that year\n",
    "match_year = matches.groupby('match_year')['league_name'].count().sort_values(ascending=False)\n",
    "match_year"
   ]
  },
  {
   "cell_type": "code",
   "execution_count": 37,
   "id": "architectural-daniel",
   "metadata": {},
   "outputs": [
    {
     "data": {
      "image/png": "[encoded data removed]",
      "text/plain": [
       "<Figure size 1080x360 with 1 Axes>"
      ]
     },
     "metadata": {
      "needs_background": "light"
     },
     "output_type": "display_data"
    }
   ],
   "source": [
    "match_year = matches.groupby('match_year')['league_name'].count()\n",
    "plt.figure(figsize =(15,5)) #setting the figure size\n",
    "match_year.plot(kind='bar') #making the plot\n",
    "plt.title('Number of matches played over the years') # setting the plot title\n",
    "plt.xlabel('Year') #setting the label name of x-axis\n",
    "plt.ylabel('Total match played'); # setting the label name of y-axis"
   ]
  },
  {
   "cell_type": "markdown",
   "id": "announced-richmond",
   "metadata": {},
   "source": [
    "##### INSIGHT\n",
    "- In 2015, a total of 3374 matches were held which was accounts the highest number of matches held in a year.\n",
    "- In 2008, a total of 1612 matches were held accounting for the least number of matches held in a year."
   ]
  },
  {
   "cell_type": "markdown",
   "id": "thorough-alabama",
   "metadata": {},
   "source": [
    "> **QUESTION 3: WHICH COUNTRY PLAYED THE MOST IN THE 2015 SEASON**"
   ]
  },
  {
   "cell_type": "code",
   "execution_count": 38,
   "id": "dressed-automation",
   "metadata": {},
   "outputs": [
    {
     "data": {
      "text/html": [
       "<div>\n",
       "<style scoped>\n",
       "    .dataframe tbody tr th:only-of-type {\n",
       "        vertical-align: middle;\n",
       "    }\n",
       "\n",
       "    .dataframe tbody tr th {\n",
       "        vertical-align: top;\n",
       "    }\n",
       "\n",
       "    .dataframe thead th {\n",
       "        text-align: right;\n",
       "    }\n",
       "</style>\n",
       "<table border=\"1\" class=\"dataframe\">\n",
       "  <thead>\n",
       "    <tr style=\"text-align: right;\">\n",
       "      <th></th>\n",
       "      <th>match_year</th>\n",
       "    </tr>\n",
       "    <tr>\n",
       "      <th>country_name</th>\n",
       "      <th></th>\n",
       "    </tr>\n",
       "  </thead>\n",
       "  <tbody>\n",
       "    <tr>\n",
       "      <th>Spain</th>\n",
       "      <td>390</td>\n",
       "    </tr>\n",
       "    <tr>\n",
       "      <th>Italy</th>\n",
       "      <td>388</td>\n",
       "    </tr>\n",
       "    <tr>\n",
       "      <th>France</th>\n",
       "      <td>381</td>\n",
       "    </tr>\n",
       "    <tr>\n",
       "      <th>England</th>\n",
       "      <td>380</td>\n",
       "    </tr>\n",
       "    <tr>\n",
       "      <th>Germany</th>\n",
       "      <td>306</td>\n",
       "    </tr>\n",
       "    <tr>\n",
       "      <th>Netherlands</th>\n",
       "      <td>306</td>\n",
       "    </tr>\n",
       "    <tr>\n",
       "      <th>Portugal</th>\n",
       "      <td>306</td>\n",
       "    </tr>\n",
       "    <tr>\n",
       "      <th>Poland</th>\n",
       "      <td>256</td>\n",
       "    </tr>\n",
       "    <tr>\n",
       "      <th>Belgium</th>\n",
       "      <td>241</td>\n",
       "    </tr>\n",
       "    <tr>\n",
       "      <th>Scotland</th>\n",
       "      <td>240</td>\n",
       "    </tr>\n",
       "    <tr>\n",
       "      <th>Switzerland</th>\n",
       "      <td>180</td>\n",
       "    </tr>\n",
       "  </tbody>\n",
       "</table>\n",
       "</div>"
      ],
      "text/plain": [
       "              match_year\n",
       "country_name            \n",
       "Spain                390\n",
       "Italy                388\n",
       "France               381\n",
       "England              380\n",
       "Germany              306\n",
       "Netherlands          306\n",
       "Portugal             306\n",
       "Poland               256\n",
       "Belgium              241\n",
       "Scotland             240\n",
       "Switzerland          180"
      ]
     },
     "execution_count": 38,
     "metadata": {},
     "output_type": "execute_result"
    }
   ],
   "source": [
    "#creating a subset data containing the country name and match year\n",
    "country_season = matches[['country_name','match_year']]\n",
    "\n",
    "#filtering the dataframe to contain only years 2015\n",
    "country_season = country_season[country_season['match_year'] == 2015]\n",
    "\n",
    "#returns the various countries and the number of matches participated in 2015\n",
    "country_season  = country_season.groupby('country_name').count().sort_values(by='match_year',ascending=False)\n",
    "#pd.DataFrame(country_season).reset_index(inplace=True)\n",
    "country_season"
   ]
  },
  {
   "cell_type": "code",
   "execution_count": 39,
   "id": "angry-satellite",
   "metadata": {},
   "outputs": [
    {
     "data": {
      "text/plain": [
       "<Figure size 1080x360 with 0 Axes>"
      ]
     },
     "metadata": {},
     "output_type": "display_data"
    },
    {
     "data": {
      "image/png": "[encoded data removed]",
      "text/plain": [
       "<Figure size 432x288 with 1 Axes>"
      ]
     },
     "metadata": {
      "needs_background": "light"
     },
     "output_type": "display_data"
    }
   ],
   "source": [
    "plt.figure(figsize =(15,5)) #setting the figure size\n",
    "country_season.plot(kind='bar') #making the plot\n",
    "plt.title('Number of matches played by each country') # setting the plot title\n",
    "plt.xlabel('Country') #setting the label name of x-axis\n",
    "plt.ylabel('Total match played'); # setting the label name of y-axis"
   ]
  },
  {
   "cell_type": "markdown",
   "id": "instant-mentor",
   "metadata": {},
   "source": [
    "##### INSIGHT\n",
    "- Spain played the most during the 2015 season.\n",
    "- Followed by Italy, France and England.\n",
    "- Switzerland played the least"
   ]
  },
  {
   "cell_type": "markdown",
   "id": "looking-month",
   "metadata": {},
   "source": [
    "> **QUESTION 4: WHAT IS THE MOST PLAYED LEAGUE OVER THE YEARS**"
   ]
  },
  {
   "cell_type": "code",
   "execution_count": 40,
   "id": "actual-cradle",
   "metadata": {},
   "outputs": [
    {
     "data": {
      "text/plain": [
       "league_name\n",
       "Spain LIGA BBVA             3040\n",
       "France Ligue 1              3040\n",
       "England Premier League      3040\n",
       "Italy Serie A               3017\n",
       "Netherlands Eredivisie      2448\n",
       "Germany 1. Bundesliga       2448\n",
       "Portugal Liga ZON Sagres    2052\n",
       "Poland Ekstraklasa          1914\n",
       "Scotland Premier League     1824\n",
       "Belgium Jupiler League      1728\n",
       "Switzerland Super League    1422\n",
       "Name: match_year, dtype: int64"
      ]
     },
     "execution_count": 40,
     "metadata": {},
     "output_type": "execute_result"
    }
   ],
   "source": [
    "# returns the amount of time a league appeared in the entire dataset\n",
    "matches.groupby('league_name')['match_year'].count().sort_values(ascending=False)"
   ]
  },
  {
   "cell_type": "code",
   "execution_count": 41,
   "id": "comfortable-flour",
   "metadata": {},
   "outputs": [
    {
     "data": {
      "image/png": "[encoded data removed]",
      "text/plain": [
       "<Figure size 1080x360 with 1 Axes>"
      ]
     },
     "metadata": {
      "needs_background": "light"
     },
     "output_type": "display_data"
    }
   ],
   "source": [
    "match_year1 = matches.groupby('league_name')['match_year'].count()\n",
    "plt.figure(figsize =(15,5)) #setting the figure size\n",
    "match_year1.plot(kind='bar') #making the plot\n",
    "plt.title('Most Played League over the years') # setting the plot title\n",
    "plt.xlabel('League name') #setting the label name of x-axis\n",
    "plt.ylabel('Frequency'); # setting the label name of y-axis"
   ]
  },
  {
   "cell_type": "markdown",
   "id": "present-nicholas",
   "metadata": {},
   "source": [
    "##### INSIGHT\n",
    "- Spain LIGA BBVA, France Ligue 1, England Premier League were the most played league from 2008 to 2016\n",
    "- The Switzerland Super League was the least played league"
   ]
  },
  {
   "cell_type": "markdown",
   "id": "delayed-bhutan",
   "metadata": {},
   "source": [
    "> **QUESTION 5: WHICH HOME TEAM HAS SCORED THE MOST OVER THE YEARS**\n"
   ]
  },
  {
   "cell_type": "code",
   "execution_count": 42,
   "id": "earlier-executive",
   "metadata": {},
   "outputs": [
    {
     "data": {
      "text/plain": [
       "home_team\n",
       "Real Madrid CF          505\n",
       "FC Barcelona            495\n",
       "Celtic                  389\n",
       "FC Bayern Munich        382\n",
       "PSV                     370\n",
       "                       ... \n",
       "AC Arles-Avignon         14\n",
       "Trofense                 14\n",
       "Feirense                 13\n",
       "Córdoba CF               12\n",
       "SpVgg Greuther Fürth     10\n",
       "Name: home_team_goal, Length: 296, dtype: int64"
      ]
     },
     "execution_count": 42,
     "metadata": {},
     "output_type": "execute_result"
    }
   ],
   "source": [
    "# returns the total amount of goals scored by a team over the years\n",
    "matches.groupby('home_team')['home_team_goal'].sum().sort_values(ascending=False)"
   ]
  },
  {
   "cell_type": "code",
   "execution_count": 43,
   "id": "artistic-commitment",
   "metadata": {},
   "outputs": [
    {
     "data": {
      "image/png": "[encoded data removed]",
      "text/plain": [
       "<Figure size 1080x360 with 1 Axes>"
      ]
     },
     "metadata": {
      "needs_background": "light"
     },
     "output_type": "display_data"
    }
   ],
   "source": [
    "# extracts the top 5 teams\n",
    "home_matches = matches.groupby('home_team')['home_team_goal'].sum().sort_values(ascending=False).head(5)\n",
    "\n",
    "plt.figure(figsize =(15,5)) #setting the figure size\n",
    "home_matches.plot(kind='bar') #making the plot\n",
    "plt.title('Top Scoring Home Team over the years') # setting the plot title\n",
    "plt.xlabel('Team name') #setting the label name of x-axis\n",
    "plt.ylabel('Frequency'); # setting the label name of y-axis\n"
   ]
  },
  {
   "cell_type": "markdown",
   "id": "fuzzy-hypothesis",
   "metadata": {},
   "source": [
    "##### INSIGHTS\n",
    "- Real Madrid CF, FC Barcelona, Celtic, FC Bayern Munich and PSV are the top scoring team in the home team.  \n",
    "- AC Arles-Avignon, Trofense, Feirense, Córdoba CF and SpVgg Greuther Fürth are the least scoring team in the away team."
   ]
  },
  {
   "cell_type": "markdown",
   "id": "linear-diving",
   "metadata": {},
   "source": [
    "> **QUESTION 6: WHICH AWAY TEAM HAS SCORED THE MOST OVER THE YEARS**\n"
   ]
  },
  {
   "cell_type": "code",
   "execution_count": 44,
   "id": "emerging-archives",
   "metadata": {},
   "outputs": [
    {
     "data": {
      "text/plain": [
       "away_team\n",
       "FC Barcelona        354\n",
       "Real Madrid CF      338\n",
       "Celtic              306\n",
       "Ajax                287\n",
       "PSV                 282\n",
       "                   ... \n",
       "FC Dordrecht          9\n",
       "Uniao da Madeira      8\n",
       "Reggio Calabria       7\n",
       "AC Arles-Avignon      7\n",
       "FC Metz               5\n",
       "Name: away_team_goal, Length: 296, dtype: int64"
      ]
     },
     "execution_count": 44,
     "metadata": {},
     "output_type": "execute_result"
    }
   ],
   "source": [
    "# returns the total amount of goals scored by a team over the years\n",
    "matches.groupby('away_team')['away_team_goal'].sum().sort_values(ascending=False)"
   ]
  },
  {
   "cell_type": "code",
   "execution_count": 45,
   "id": "current-approval",
   "metadata": {},
   "outputs": [
    {
     "data": {
      "image/png": "[encoded data removed]",
      "text/plain": [
       "<Figure size 1080x360 with 1 Axes>"
      ]
     },
     "metadata": {
      "needs_background": "light"
     },
     "output_type": "display_data"
    }
   ],
   "source": [
    "# extracts the top 5 away teams\n",
    "away_matches = matches.groupby('away_team')['away_team_goal'].sum().sort_values(ascending=False).head(5)\n",
    "\n",
    "plt.figure(figsize =(15,5)) #setting the figure size\n",
    "away_matches.plot(kind='bar') #making the plot\n",
    "plt.title('Top Scoring Away Team over the years') # setting the plot title\n",
    "plt.xlabel('Team name') #setting the label name of x-axis\n",
    "plt.ylabel('Frequency'); # setting the label name of y-axis"
   ]
  },
  {
   "cell_type": "markdown",
   "id": "distant-trigger",
   "metadata": {},
   "source": [
    "##### INSIGHTS\n",
    "- FC Barcelona, Real Madrid CF, Celtic, Ajax and PSV are the top scoring team in the away team\n",
    "- FC Dordrecht, Uniao da Madeira, Reggio Calabria, AC Arles-Avignon and FC Metz are the least scoring team in the away team"
   ]
  },
  {
   "cell_type": "markdown",
   "id": "afraid-virus",
   "metadata": {},
   "source": [
    "> **QUESTION 7: WHICH HOME TEAM HAD THE HIGHEST GOALS IN THE England Premier League IN 2015**"
   ]
  },
  {
   "cell_type": "code",
   "execution_count": 46,
   "id": "existing-premises",
   "metadata": {},
   "outputs": [
    {
     "data": {
      "text/plain": [
       "home_team\n",
       "Manchester City         56\n",
       "Arsenal                 38\n",
       "Tottenham Hotspur       38\n",
       "Everton                 33\n",
       "Leicester City          32\n",
       "Southampton             32\n",
       "Stoke City              31\n",
       "Chelsea                 29\n",
       "Manchester United       29\n",
       "Liverpool               28\n",
       "Newcastle United        27\n",
       "West Ham United         24\n",
       "West Bromwich Albion    23\n",
       "Crystal Palace          23\n",
       "Swansea City            21\n",
       "Aston Villa             17\n",
       "Sunderland              15\n",
       "Norwich City            11\n",
       "Hull City               11\n",
       "Watford                 10\n",
       "Bournemouth             10\n",
       "Burnley                  7\n",
       "Queens Park Rangers      6\n",
       "Name: home_team_goal, dtype: int64"
      ]
     },
     "execution_count": 46,
     "metadata": {},
     "output_type": "execute_result"
    }
   ],
   "source": [
    "# creating a subset of the original data\n",
    "england_league = matches[['league_name','match_year','home_team','home_team_goal']] \n",
    "\n",
    "# filtering the data to contain only 2015 observations\n",
    "england_league = england_league[england_league['match_year'] == 2015] \n",
    "\n",
    "# filtering the data to contain only the english premier league\n",
    "england_league = england_league[england_league['league_name']=='England Premier League'] \n",
    "\n",
    "#returns the various home teams and their goals in 2015\n",
    "england_league.groupby('home_team')['home_team_goal'].sum().sort_values(ascending=False)"
   ]
  },
  {
   "cell_type": "code",
   "execution_count": 47,
   "id": "deadly-timer",
   "metadata": {},
   "outputs": [
    {
     "data": {
      "image/png": "[encoded data removed]",
      "text/plain": [
       "<Figure size 1080x360 with 1 Axes>"
      ]
     },
     "metadata": {
      "needs_background": "light"
     },
     "output_type": "display_data"
    }
   ],
   "source": [
    "eng_league =england_league.groupby('home_team')['home_team_goal'].sum()#.sort_values(ascending=False)\n",
    "\n",
    "plt.figure(figsize =(15,5)) #setting the figure size\n",
    "eng_league.plot(kind='bar') #making the plot\n",
    "plt.title('Top Scoring Home Team in the English Premier League of 2015') # setting the plot title\n",
    "plt.xlabel('Team name') #setting the label name of x-axis\n",
    "plt.ylabel('Frequency'); # setting the label name of y-axis"
   ]
  },
  {
   "cell_type": "markdown",
   "id": "traditional-round",
   "metadata": {},
   "source": [
    "##### INSIGHTS\n",
    "- Manchester City was the highest goal scorer in the English Premier League in 2015"
   ]
  },
  {
   "cell_type": "markdown",
   "id": "administrative-letter",
   "metadata": {},
   "source": [
    "> **QUESTION 8: IN WHAT MONTH DO WE HAVE LESS MATCHES BEING PLAYED**"
   ]
  },
  {
   "cell_type": "code",
   "execution_count": 48,
   "id": "appropriate-photography",
   "metadata": {},
   "outputs": [
    {
     "data": {
      "text/plain": [
       "match_month\n",
       "6       23\n",
       "7      218\n",
       "1     2183\n",
       "5     2244\n",
       "8     2276\n",
       "12    2524\n",
       "9     2574\n",
       "10    2607\n",
       "11    2738\n",
       "3     2785\n",
       "2     2834\n",
       "4     2967\n",
       "Name: match_year, dtype: int64"
      ]
     },
     "execution_count": 48,
     "metadata": {},
     "output_type": "execute_result"
    }
   ],
   "source": [
    "# groups the dataset according to the months and counts the total years in each month\n",
    "matches.groupby('match_month')['match_year'].count().sort_values(ascending=True)"
   ]
  },
  {
   "cell_type": "code",
   "execution_count": 49,
   "id": "continuing-fever",
   "metadata": {},
   "outputs": [
    {
     "data": {
      "image/png": "[encoded data removed]",
      "text/plain": [
       "<Figure size 1080x360 with 1 Axes>"
      ]
     },
     "metadata": {
      "needs_background": "light"
     },
     "output_type": "display_data"
    }
   ],
   "source": [
    "match_month = matches.groupby('match_month')['match_year'].count()\n",
    "\n",
    "plt.figure(figsize =(15,5)) #setting the figure size\n",
    "match_month.plot(kind='bar') #making the plot\n",
    "plt.title('Number of Matches played in each month') # setting the plot title\n",
    "plt.xlabel('Month') #setting the label name of x-axis\n",
    "plt.ylabel('Frequency'); # setting the label name of y-axis"
   ]
  },
  {
   "cell_type": "markdown",
   "id": "separated-dragon",
   "metadata": {},
   "source": [
    "##### INSIGHTS\n",
    "- In the months of June and July, a whole lot of matches were not held\n",
    "- In the month of April, over 2900 matches were held."
   ]
  },
  {
   "cell_type": "markdown",
   "id": "familiar-snapshot",
   "metadata": {},
   "source": [
    "<a id='conclusions'></a>\n",
    "## Conclusions"
   ]
  },
  {
   "cell_type": "markdown",
   "id": "careful-ancient",
   "metadata": {},
   "source": [
    "> **After careful analysis of the soccer dataset,the following conclusions and findings were drawn**\n",
    ">\n",
    "> 1. Player Danilo seems to be topping the chart in most of the player attributes that were analyzed. Howere, a deeper analyis on why this is so can be carried out. It could be that there are more than one persons with the name Danilo hence why Danilo is topping the chart. A further and careful analysis is advised.\n",
    ">\n",
    ">\n",
    "> 2. There is not a whole lot of players born in the following years; 1970, 1969, 1999, 1968, 1967  \n",
    ">\n",
    ">\n",
    "> 3. There seems to be a correlation between some of the player attributes such as agility and ball control, weight and height, and more. However a correlation does not imply causation. \n",
    ">\n",
    ">\n",
    "> 4. The dataset contains matches played within the years 2008 to 2016. 2015 had the highest number of matches.\n",
    ">\n",
    ">\n",
    "> 5. Countries like Spain, Italy, France and England participated a lot in matches over the years. Also, leagues like Spain LIGA BBVA, France Ligue 1, England Premier League were the most played league.\n",
    ">\n",
    ">\n",
    "> 6. Teams like Real Madrid CF, FC Barcelona, Celtic performed topped the ranks as the highest goal scoring teams both as an away team and a home team.\n",
    ">\n",
    ">\n",
    "> 7. In the England Premier League in 2015, teams like Manchester City, Arsenal and Tottenham Hotspur were the highest goal scoring team.\n",
    ">\n",
    ">\n",
    "> 8. Months like June and July do not have a whole lot of matches unlike April when a lot of matches were held."
   ]
  },
  {
   "cell_type": "code",
   "execution_count": null,
   "id": "thousand-series",
   "metadata": {},
   "outputs": [],
   "source": []
  }
 ],
 "metadata": {
  "kernelspec": {
   "display_name": "Python 3",
   "language": "python",
   "name": "python3"
  },
  "language_info": {
   "codemirror_mode": {
    "name": "ipython",
    "version": 3
   },
   "file_extension": ".py",
   "mimetype": "text/x-python",
   "name": "python",
   "nbconvert_exporter": "python",
   "pygments_lexer": "ipython3",
   "version": "3.8.3"
  }
 },
 "nbformat": 4,
 "nbformat_minor": 5
}
